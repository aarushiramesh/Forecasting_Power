{
  "nbformat": 4,
  "nbformat_minor": 0,
  "metadata": {
    "colab": {
      "name": "OtherRegionsModelApplications.ipynb",
      "provenance": [],
      "mount_file_id": "1fwF2_pAeeUobuKt_BmBUuuaezNyO1KFv",
      "authorship_tag": "ABX9TyP7gq3LOVs2gKuZQNAR2K9i",
      "include_colab_link": true
    },
    "kernelspec": {
      "name": "python3",
      "display_name": "Python 3"
    },
    "language_info": {
      "name": "python"
    }
  },
  "cells": [
    {
      "cell_type": "markdown",
      "metadata": {
        "id": "view-in-github",
        "colab_type": "text"
      },
      "source": [
        "<a href=\"https://colab.research.google.com/github/aarushiramesh/Forecasting_Power/blob/main/OtherRegionsModelApplications.ipynb\" target=\"_parent\"><img src=\"https://colab.research.google.com/assets/colab-badge.svg\" alt=\"Open In Colab\"/></a>"
      ]
    },
    {
      "cell_type": "code",
      "metadata": {
        "colab": {
          "base_uri": "https://localhost:8080/",
          "height": 35
        },
        "id": "NB04opTShVPL",
        "outputId": "70847357-6c72-403e-8974-3d130364b508"
      },
      "source": [
        "pwd"
      ],
      "execution_count": null,
      "outputs": [
        {
          "output_type": "execute_result",
          "data": {
            "application/vnd.google.colaboratory.intrinsic+json": {
              "type": "string"
            },
            "text/plain": [
              "'/content'"
            ]
          },
          "metadata": {
            "tags": []
          },
          "execution_count": 1
        }
      ]
    },
    {
      "cell_type": "code",
      "metadata": {
        "colab": {
          "base_uri": "https://localhost:8080/"
        },
        "id": "gmUNk5g0hcWp",
        "outputId": "738b1414-6dc2-4691-f2a4-698a22c309ab"
      },
      "source": [
        "ls"
      ],
      "execution_count": null,
      "outputs": [
        {
          "output_type": "stream",
          "text": [
            "\u001b[0m\u001b[01;34mdrive\u001b[0m/  \u001b[01;34msample_data\u001b[0m/\n"
          ],
          "name": "stdout"
        }
      ]
    },
    {
      "cell_type": "code",
      "metadata": {
        "id": "VNJeOX1LiNa9"
      },
      "source": [
        "import pandas as pd\n",
        "import matplotlib.pyplot as plt\n",
        "import numpy as np"
      ],
      "execution_count": null,
      "outputs": []
    },
    {
      "cell_type": "code",
      "metadata": {
        "id": "b9BAMX9zhfem"
      },
      "source": [
        "df1 = pd.read_csv('drive/Shareddrives/Data Science Project/data/houston_weather/houston_dataframe.csv')"
      ],
      "execution_count": null,
      "outputs": []
    },
    {
      "cell_type": "code",
      "metadata": {
        "colab": {
          "base_uri": "https://localhost:8080/",
          "height": 419
        },
        "id": "Xr2TINqNiF7t",
        "outputId": "72cec312-d0a3-4150-8c1e-f7ebff39cf4a"
      },
      "source": [
        "df1"
      ],
      "execution_count": null,
      "outputs": [
        {
          "output_type": "execute_result",
          "data": {
            "text/html": [
              "<div>\n",
              "<style scoped>\n",
              "    .dataframe tbody tr th:only-of-type {\n",
              "        vertical-align: middle;\n",
              "    }\n",
              "\n",
              "    .dataframe tbody tr th {\n",
              "        vertical-align: top;\n",
              "    }\n",
              "\n",
              "    .dataframe thead th {\n",
              "        text-align: right;\n",
              "    }\n",
              "</style>\n",
              "<table border=\"1\" class=\"dataframe\">\n",
              "  <thead>\n",
              "    <tr style=\"text-align: right;\">\n",
              "      <th></th>\n",
              "      <th>Unnamed: 0</th>\n",
              "      <th>Year</th>\n",
              "      <th>Month</th>\n",
              "      <th>Day</th>\n",
              "      <th>PrecipitationTotalInches</th>\n",
              "      <th>COAST</th>\n",
              "    </tr>\n",
              "  </thead>\n",
              "  <tbody>\n",
              "    <tr>\n",
              "      <th>0</th>\n",
              "      <td>96431</td>\n",
              "      <td>2013</td>\n",
              "      <td>5</td>\n",
              "      <td>2</td>\n",
              "      <td>0.0</td>\n",
              "      <td>9077.609484</td>\n",
              "    </tr>\n",
              "    <tr>\n",
              "      <th>1</th>\n",
              "      <td>96432</td>\n",
              "      <td>2013</td>\n",
              "      <td>5</td>\n",
              "      <td>2</td>\n",
              "      <td>0.0</td>\n",
              "      <td>9163.176395</td>\n",
              "    </tr>\n",
              "    <tr>\n",
              "      <th>2</th>\n",
              "      <td>96433</td>\n",
              "      <td>2013</td>\n",
              "      <td>5</td>\n",
              "      <td>2</td>\n",
              "      <td>0.0</td>\n",
              "      <td>9575.827842</td>\n",
              "    </tr>\n",
              "    <tr>\n",
              "      <th>3</th>\n",
              "      <td>96434</td>\n",
              "      <td>2013</td>\n",
              "      <td>5</td>\n",
              "      <td>2</td>\n",
              "      <td>0.0</td>\n",
              "      <td>10501.113872</td>\n",
              "    </tr>\n",
              "    <tr>\n",
              "      <th>4</th>\n",
              "      <td>96435</td>\n",
              "      <td>2013</td>\n",
              "      <td>5</td>\n",
              "      <td>2</td>\n",
              "      <td>0.0</td>\n",
              "      <td>9919.688713</td>\n",
              "    </tr>\n",
              "    <tr>\n",
              "      <th>...</th>\n",
              "      <td>...</td>\n",
              "      <td>...</td>\n",
              "      <td>...</td>\n",
              "      <td>...</td>\n",
              "      <td>...</td>\n",
              "      <td>...</td>\n",
              "    </tr>\n",
              "    <tr>\n",
              "      <th>35059</th>\n",
              "      <td>131490</td>\n",
              "      <td>2016</td>\n",
              "      <td>9</td>\n",
              "      <td>1</td>\n",
              "      <td>0.0</td>\n",
              "      <td>10655.829593</td>\n",
              "    </tr>\n",
              "    <tr>\n",
              "      <th>35060</th>\n",
              "      <td>131491</td>\n",
              "      <td>2016</td>\n",
              "      <td>9</td>\n",
              "      <td>1</td>\n",
              "      <td>0.0</td>\n",
              "      <td>11085.313576</td>\n",
              "    </tr>\n",
              "    <tr>\n",
              "      <th>35061</th>\n",
              "      <td>131492</td>\n",
              "      <td>2016</td>\n",
              "      <td>9</td>\n",
              "      <td>1</td>\n",
              "      <td>0.0</td>\n",
              "      <td>11640.538835</td>\n",
              "    </tr>\n",
              "    <tr>\n",
              "      <th>35062</th>\n",
              "      <td>131493</td>\n",
              "      <td>2016</td>\n",
              "      <td>9</td>\n",
              "      <td>1</td>\n",
              "      <td>0.0</td>\n",
              "      <td>12519.541100</td>\n",
              "    </tr>\n",
              "    <tr>\n",
              "      <th>35063</th>\n",
              "      <td>131494</td>\n",
              "      <td>2016</td>\n",
              "      <td>9</td>\n",
              "      <td>1</td>\n",
              "      <td>0.0</td>\n",
              "      <td>10529.300544</td>\n",
              "    </tr>\n",
              "  </tbody>\n",
              "</table>\n",
              "<p>35064 rows × 6 columns</p>\n",
              "</div>"
            ],
            "text/plain": [
              "       Unnamed: 0  Year  Month  Day  PrecipitationTotalInches         COAST\n",
              "0           96431  2013      5    2                       0.0   9077.609484\n",
              "1           96432  2013      5    2                       0.0   9163.176395\n",
              "2           96433  2013      5    2                       0.0   9575.827842\n",
              "3           96434  2013      5    2                       0.0  10501.113872\n",
              "4           96435  2013      5    2                       0.0   9919.688713\n",
              "...           ...   ...    ...  ...                       ...           ...\n",
              "35059      131490  2016      9    1                       0.0  10655.829593\n",
              "35060      131491  2016      9    1                       0.0  11085.313576\n",
              "35061      131492  2016      9    1                       0.0  11640.538835\n",
              "35062      131493  2016      9    1                       0.0  12519.541100\n",
              "35063      131494  2016      9    1                       0.0  10529.300544\n",
              "\n",
              "[35064 rows x 6 columns]"
            ]
          },
          "metadata": {
            "tags": []
          },
          "execution_count": 25
        }
      ]
    },
    {
      "cell_type": "code",
      "metadata": {
        "colab": {
          "base_uri": "https://localhost:8080/",
          "height": 419
        },
        "id": "zOPx0Xlgkawg",
        "outputId": "1243c8f4-9216-4250-edeb-4f909c6acef0"
      },
      "source": [
        "df1_clean = df1.drop(columns=['Unnamed: 0'])\n",
        "df1_clean"
      ],
      "execution_count": null,
      "outputs": [
        {
          "output_type": "execute_result",
          "data": {
            "text/html": [
              "<div>\n",
              "<style scoped>\n",
              "    .dataframe tbody tr th:only-of-type {\n",
              "        vertical-align: middle;\n",
              "    }\n",
              "\n",
              "    .dataframe tbody tr th {\n",
              "        vertical-align: top;\n",
              "    }\n",
              "\n",
              "    .dataframe thead th {\n",
              "        text-align: right;\n",
              "    }\n",
              "</style>\n",
              "<table border=\"1\" class=\"dataframe\">\n",
              "  <thead>\n",
              "    <tr style=\"text-align: right;\">\n",
              "      <th></th>\n",
              "      <th>Year</th>\n",
              "      <th>Month</th>\n",
              "      <th>Day</th>\n",
              "      <th>PrecipitationTotalInches</th>\n",
              "      <th>COAST</th>\n",
              "    </tr>\n",
              "  </thead>\n",
              "  <tbody>\n",
              "    <tr>\n",
              "      <th>0</th>\n",
              "      <td>2013</td>\n",
              "      <td>5</td>\n",
              "      <td>2</td>\n",
              "      <td>0.0</td>\n",
              "      <td>9077.609484</td>\n",
              "    </tr>\n",
              "    <tr>\n",
              "      <th>1</th>\n",
              "      <td>2013</td>\n",
              "      <td>5</td>\n",
              "      <td>2</td>\n",
              "      <td>0.0</td>\n",
              "      <td>9163.176395</td>\n",
              "    </tr>\n",
              "    <tr>\n",
              "      <th>2</th>\n",
              "      <td>2013</td>\n",
              "      <td>5</td>\n",
              "      <td>2</td>\n",
              "      <td>0.0</td>\n",
              "      <td>9575.827842</td>\n",
              "    </tr>\n",
              "    <tr>\n",
              "      <th>3</th>\n",
              "      <td>2013</td>\n",
              "      <td>5</td>\n",
              "      <td>2</td>\n",
              "      <td>0.0</td>\n",
              "      <td>10501.113872</td>\n",
              "    </tr>\n",
              "    <tr>\n",
              "      <th>4</th>\n",
              "      <td>2013</td>\n",
              "      <td>5</td>\n",
              "      <td>2</td>\n",
              "      <td>0.0</td>\n",
              "      <td>9919.688713</td>\n",
              "    </tr>\n",
              "    <tr>\n",
              "      <th>...</th>\n",
              "      <td>...</td>\n",
              "      <td>...</td>\n",
              "      <td>...</td>\n",
              "      <td>...</td>\n",
              "      <td>...</td>\n",
              "    </tr>\n",
              "    <tr>\n",
              "      <th>35059</th>\n",
              "      <td>2016</td>\n",
              "      <td>9</td>\n",
              "      <td>1</td>\n",
              "      <td>0.0</td>\n",
              "      <td>10655.829593</td>\n",
              "    </tr>\n",
              "    <tr>\n",
              "      <th>35060</th>\n",
              "      <td>2016</td>\n",
              "      <td>9</td>\n",
              "      <td>1</td>\n",
              "      <td>0.0</td>\n",
              "      <td>11085.313576</td>\n",
              "    </tr>\n",
              "    <tr>\n",
              "      <th>35061</th>\n",
              "      <td>2016</td>\n",
              "      <td>9</td>\n",
              "      <td>1</td>\n",
              "      <td>0.0</td>\n",
              "      <td>11640.538835</td>\n",
              "    </tr>\n",
              "    <tr>\n",
              "      <th>35062</th>\n",
              "      <td>2016</td>\n",
              "      <td>9</td>\n",
              "      <td>1</td>\n",
              "      <td>0.0</td>\n",
              "      <td>12519.541100</td>\n",
              "    </tr>\n",
              "    <tr>\n",
              "      <th>35063</th>\n",
              "      <td>2016</td>\n",
              "      <td>9</td>\n",
              "      <td>1</td>\n",
              "      <td>0.0</td>\n",
              "      <td>10529.300544</td>\n",
              "    </tr>\n",
              "  </tbody>\n",
              "</table>\n",
              "<p>35064 rows × 5 columns</p>\n",
              "</div>"
            ],
            "text/plain": [
              "       Year  Month  Day  PrecipitationTotalInches         COAST\n",
              "0      2013      5    2                       0.0   9077.609484\n",
              "1      2013      5    2                       0.0   9163.176395\n",
              "2      2013      5    2                       0.0   9575.827842\n",
              "3      2013      5    2                       0.0  10501.113872\n",
              "4      2013      5    2                       0.0   9919.688713\n",
              "...     ...    ...  ...                       ...           ...\n",
              "35059  2016      9    1                       0.0  10655.829593\n",
              "35060  2016      9    1                       0.0  11085.313576\n",
              "35061  2016      9    1                       0.0  11640.538835\n",
              "35062  2016      9    1                       0.0  12519.541100\n",
              "35063  2016      9    1                       0.0  10529.300544\n",
              "\n",
              "[35064 rows x 5 columns]"
            ]
          },
          "metadata": {
            "tags": []
          },
          "execution_count": 29
        }
      ]
    },
    {
      "cell_type": "code",
      "metadata": {
        "colab": {
          "base_uri": "https://localhost:8080/",
          "height": 419
        },
        "id": "jsXOFd34mqEA",
        "outputId": "f55d701b-50c2-41ca-f766-bc912426cdfa"
      },
      "source": [
        "# Re-arrange year column to match Austin df\n",
        "year = df1_clean['Year']\n",
        "df1_clean.drop(labels=['Year'], axis=1, inplace=True)\n",
        "df1_clean.insert(2, 'Year', year)\n",
        "df1_clean"
      ],
      "execution_count": null,
      "outputs": [
        {
          "output_type": "execute_result",
          "data": {
            "text/html": [
              "<div>\n",
              "<style scoped>\n",
              "    .dataframe tbody tr th:only-of-type {\n",
              "        vertical-align: middle;\n",
              "    }\n",
              "\n",
              "    .dataframe tbody tr th {\n",
              "        vertical-align: top;\n",
              "    }\n",
              "\n",
              "    .dataframe thead th {\n",
              "        text-align: right;\n",
              "    }\n",
              "</style>\n",
              "<table border=\"1\" class=\"dataframe\">\n",
              "  <thead>\n",
              "    <tr style=\"text-align: right;\">\n",
              "      <th></th>\n",
              "      <th>Month</th>\n",
              "      <th>Day</th>\n",
              "      <th>Year</th>\n",
              "      <th>PrecipitationTotalInches</th>\n",
              "      <th>COAST</th>\n",
              "    </tr>\n",
              "  </thead>\n",
              "  <tbody>\n",
              "    <tr>\n",
              "      <th>0</th>\n",
              "      <td>5</td>\n",
              "      <td>2</td>\n",
              "      <td>2013</td>\n",
              "      <td>0.0</td>\n",
              "      <td>9077.609484</td>\n",
              "    </tr>\n",
              "    <tr>\n",
              "      <th>1</th>\n",
              "      <td>5</td>\n",
              "      <td>2</td>\n",
              "      <td>2013</td>\n",
              "      <td>0.0</td>\n",
              "      <td>9163.176395</td>\n",
              "    </tr>\n",
              "    <tr>\n",
              "      <th>2</th>\n",
              "      <td>5</td>\n",
              "      <td>2</td>\n",
              "      <td>2013</td>\n",
              "      <td>0.0</td>\n",
              "      <td>9575.827842</td>\n",
              "    </tr>\n",
              "    <tr>\n",
              "      <th>3</th>\n",
              "      <td>5</td>\n",
              "      <td>2</td>\n",
              "      <td>2013</td>\n",
              "      <td>0.0</td>\n",
              "      <td>10501.113872</td>\n",
              "    </tr>\n",
              "    <tr>\n",
              "      <th>4</th>\n",
              "      <td>5</td>\n",
              "      <td>2</td>\n",
              "      <td>2013</td>\n",
              "      <td>0.0</td>\n",
              "      <td>9919.688713</td>\n",
              "    </tr>\n",
              "    <tr>\n",
              "      <th>...</th>\n",
              "      <td>...</td>\n",
              "      <td>...</td>\n",
              "      <td>...</td>\n",
              "      <td>...</td>\n",
              "      <td>...</td>\n",
              "    </tr>\n",
              "    <tr>\n",
              "      <th>35059</th>\n",
              "      <td>9</td>\n",
              "      <td>1</td>\n",
              "      <td>2016</td>\n",
              "      <td>0.0</td>\n",
              "      <td>10655.829593</td>\n",
              "    </tr>\n",
              "    <tr>\n",
              "      <th>35060</th>\n",
              "      <td>9</td>\n",
              "      <td>1</td>\n",
              "      <td>2016</td>\n",
              "      <td>0.0</td>\n",
              "      <td>11085.313576</td>\n",
              "    </tr>\n",
              "    <tr>\n",
              "      <th>35061</th>\n",
              "      <td>9</td>\n",
              "      <td>1</td>\n",
              "      <td>2016</td>\n",
              "      <td>0.0</td>\n",
              "      <td>11640.538835</td>\n",
              "    </tr>\n",
              "    <tr>\n",
              "      <th>35062</th>\n",
              "      <td>9</td>\n",
              "      <td>1</td>\n",
              "      <td>2016</td>\n",
              "      <td>0.0</td>\n",
              "      <td>12519.541100</td>\n",
              "    </tr>\n",
              "    <tr>\n",
              "      <th>35063</th>\n",
              "      <td>9</td>\n",
              "      <td>1</td>\n",
              "      <td>2016</td>\n",
              "      <td>0.0</td>\n",
              "      <td>10529.300544</td>\n",
              "    </tr>\n",
              "  </tbody>\n",
              "</table>\n",
              "<p>35064 rows × 5 columns</p>\n",
              "</div>"
            ],
            "text/plain": [
              "       Month  Day  Year  PrecipitationTotalInches         COAST\n",
              "0          5    2  2013                       0.0   9077.609484\n",
              "1          5    2  2013                       0.0   9163.176395\n",
              "2          5    2  2013                       0.0   9575.827842\n",
              "3          5    2  2013                       0.0  10501.113872\n",
              "4          5    2  2013                       0.0   9919.688713\n",
              "...      ...  ...   ...                       ...           ...\n",
              "35059      9    1  2016                       0.0  10655.829593\n",
              "35060      9    1  2016                       0.0  11085.313576\n",
              "35061      9    1  2016                       0.0  11640.538835\n",
              "35062      9    1  2016                       0.0  12519.541100\n",
              "35063      9    1  2016                       0.0  10529.300544\n",
              "\n",
              "[35064 rows x 5 columns]"
            ]
          },
          "metadata": {
            "tags": []
          },
          "execution_count": 34
        }
      ]
    },
    {
      "cell_type": "code",
      "metadata": {
        "colab": {
          "base_uri": "https://localhost:8080/"
        },
        "id": "X-RmKvVjnoi1",
        "outputId": "14061132-5a15-49cc-cd80-e9a2e297ec7d"
      },
      "source": [
        "df1_clean.isnull().sum()"
      ],
      "execution_count": null,
      "outputs": [
        {
          "output_type": "execute_result",
          "data": {
            "text/plain": [
              "Month                       0\n",
              "Day                         0\n",
              "Year                        0\n",
              "PrecipitationTotalInches    0\n",
              "COAST                       0\n",
              "dtype: int64"
            ]
          },
          "metadata": {
            "tags": []
          },
          "execution_count": 35
        }
      ]
    },
    {
      "cell_type": "code",
      "metadata": {
        "id": "LAF3J76voBa2"
      },
      "source": [
        "X = df1_clean.drop(['COAST'], axis=1)\n",
        "y = df1_clean['COAST']"
      ],
      "execution_count": null,
      "outputs": []
    },
    {
      "cell_type": "code",
      "metadata": {
        "id": "W6b5Kn19oL41"
      },
      "source": [
        "cat_ft = ['Month', 'Day', 'Year']\n",
        "num_ft = (list(X._get_numeric_data().columns))"
      ],
      "execution_count": null,
      "outputs": []
    },
    {
      "cell_type": "code",
      "metadata": {
        "id": "tbE0qRgboTNl"
      },
      "source": [
        "def prepend(list, str):  \n",
        "    # Using format()\n",
        "    str += '{0}'\n",
        "    list = [str.format(i) for i in list]\n",
        "    return(list)"
      ],
      "execution_count": null,
      "outputs": []
    },
    {
      "cell_type": "code",
      "metadata": {
        "id": "t_at1HfFoVnM"
      },
      "source": [
        "from numpy import array\n",
        "from numpy import argmax\n",
        "from sklearn.preprocessing import LabelEncoder\n",
        "from sklearn.preprocessing import OneHotEncoder\n",
        "\n",
        "# define example\n",
        "data = X['Month']\n",
        "values = array(data)\n",
        "\n",
        "# integer encode\n",
        "label_encoder = LabelEncoder()\n",
        "integer_encoded = label_encoder.fit_transform(values)\n",
        "\n",
        "# binary encode\n",
        "onehot_encoder = OneHotEncoder(sparse=False)\n",
        "integer_encoded = integer_encoded.reshape(len(integer_encoded), 1)\n",
        "onehot_encoded = onehot_encoder.fit_transform(integer_encoded)\n"
      ],
      "execution_count": null,
      "outputs": []
    },
    {
      "cell_type": "code",
      "metadata": {
        "id": "aE2plh1QoXjX"
      },
      "source": [
        "months = pd.DataFrame(onehot_encoded)"
      ],
      "execution_count": null,
      "outputs": []
    },
    {
      "cell_type": "code",
      "metadata": {
        "id": "D-d7yahsoa8l"
      },
      "source": [
        "months.columns = (prepend(list(months.columns), 'month'))"
      ],
      "execution_count": null,
      "outputs": []
    },
    {
      "cell_type": "code",
      "metadata": {
        "id": "CHhwRaqXobON"
      },
      "source": [
        "# OHE Days\n",
        "data = X['Day']\n",
        "values = array(data)\n",
        "\n",
        "# integer encode\n",
        "label_encoder = LabelEncoder()\n",
        "integer_encoded = label_encoder.fit_transform(values)\n",
        "\n",
        "# binary encode\n",
        "onehot_encoder = OneHotEncoder(sparse=False)\n",
        "integer_encoded = integer_encoded.reshape(len(integer_encoded), 1)\n",
        "onehot_encoded = onehot_encoder.fit_transform(integer_encoded)\n",
        "days = pd.DataFrame(onehot_encoded)"
      ],
      "execution_count": null,
      "outputs": []
    },
    {
      "cell_type": "code",
      "metadata": {
        "id": "w4etWBd8oc-t"
      },
      "source": [
        "days.columns = (prepend(list(days.columns), 'day'))"
      ],
      "execution_count": null,
      "outputs": []
    },
    {
      "cell_type": "code",
      "metadata": {
        "id": "4G-wFVhXoeyV"
      },
      "source": [
        "# OHE Year\n",
        "data = X['Year']\n",
        "values = array(data)\n",
        "\n",
        "# integer encode\n",
        "label_encoder = LabelEncoder()\n",
        "integer_encoded = label_encoder.fit_transform(values)\n",
        "\n",
        "# binary encode\n",
        "onehot_encoder = OneHotEncoder(sparse=False)\n",
        "integer_encoded = integer_encoded.reshape(len(integer_encoded), 1)\n",
        "onehot_encoded = onehot_encoder.fit_transform(integer_encoded)\n",
        "\n",
        "years = pd.DataFrame(onehot_encoded)"
      ],
      "execution_count": null,
      "outputs": []
    },
    {
      "cell_type": "code",
      "metadata": {
        "id": "k-aJDgogohPc"
      },
      "source": [
        "renamed_years = (prepend(list(years.columns), 'year'))\n",
        "years.columns = renamed_years"
      ],
      "execution_count": null,
      "outputs": []
    },
    {
      "cell_type": "code",
      "metadata": {
        "id": "U4gGjqamojHM"
      },
      "source": [
        "X = pd.concat([X, months,], axis=1)\n",
        "X = pd.concat([X, years,], axis=1)\n",
        "X = pd.concat([X, days,], axis=1)"
      ],
      "execution_count": null,
      "outputs": []
    },
    {
      "cell_type": "code",
      "metadata": {
        "colab": {
          "base_uri": "https://localhost:8080/",
          "height": 224
        },
        "id": "nWFfZIzEoktj",
        "outputId": "ec17b593-092f-4868-a6ca-5a1564574943"
      },
      "source": [
        "X = X.drop(columns=['Month', 'Day', 'Year',])\n",
        "X.head()"
      ],
      "execution_count": null,
      "outputs": [
        {
          "output_type": "execute_result",
          "data": {
            "text/html": [
              "<div>\n",
              "<style scoped>\n",
              "    .dataframe tbody tr th:only-of-type {\n",
              "        vertical-align: middle;\n",
              "    }\n",
              "\n",
              "    .dataframe tbody tr th {\n",
              "        vertical-align: top;\n",
              "    }\n",
              "\n",
              "    .dataframe thead th {\n",
              "        text-align: right;\n",
              "    }\n",
              "</style>\n",
              "<table border=\"1\" class=\"dataframe\">\n",
              "  <thead>\n",
              "    <tr style=\"text-align: right;\">\n",
              "      <th></th>\n",
              "      <th>PrecipitationTotalInches</th>\n",
              "      <th>month0</th>\n",
              "      <th>month1</th>\n",
              "      <th>month2</th>\n",
              "      <th>month3</th>\n",
              "      <th>month4</th>\n",
              "      <th>month5</th>\n",
              "      <th>month6</th>\n",
              "      <th>month7</th>\n",
              "      <th>month8</th>\n",
              "      <th>month9</th>\n",
              "      <th>month10</th>\n",
              "      <th>month11</th>\n",
              "      <th>year0</th>\n",
              "      <th>year1</th>\n",
              "      <th>year2</th>\n",
              "      <th>year3</th>\n",
              "      <th>day0</th>\n",
              "      <th>day1</th>\n",
              "      <th>day2</th>\n",
              "      <th>day3</th>\n",
              "      <th>day4</th>\n",
              "      <th>day5</th>\n",
              "      <th>day6</th>\n",
              "      <th>day7</th>\n",
              "      <th>day8</th>\n",
              "      <th>day9</th>\n",
              "      <th>day10</th>\n",
              "      <th>day11</th>\n",
              "      <th>day12</th>\n",
              "      <th>day13</th>\n",
              "      <th>day14</th>\n",
              "      <th>day15</th>\n",
              "      <th>day16</th>\n",
              "      <th>day17</th>\n",
              "      <th>day18</th>\n",
              "      <th>day19</th>\n",
              "      <th>day20</th>\n",
              "      <th>day21</th>\n",
              "      <th>day22</th>\n",
              "      <th>day23</th>\n",
              "      <th>day24</th>\n",
              "      <th>day25</th>\n",
              "      <th>day26</th>\n",
              "      <th>day27</th>\n",
              "      <th>day28</th>\n",
              "      <th>day29</th>\n",
              "      <th>day30</th>\n",
              "    </tr>\n",
              "  </thead>\n",
              "  <tbody>\n",
              "    <tr>\n",
              "      <th>0</th>\n",
              "      <td>0.0</td>\n",
              "      <td>0.0</td>\n",
              "      <td>0.0</td>\n",
              "      <td>0.0</td>\n",
              "      <td>0.0</td>\n",
              "      <td>1.0</td>\n",
              "      <td>0.0</td>\n",
              "      <td>0.0</td>\n",
              "      <td>0.0</td>\n",
              "      <td>0.0</td>\n",
              "      <td>0.0</td>\n",
              "      <td>0.0</td>\n",
              "      <td>0.0</td>\n",
              "      <td>1.0</td>\n",
              "      <td>0.0</td>\n",
              "      <td>0.0</td>\n",
              "      <td>0.0</td>\n",
              "      <td>0.0</td>\n",
              "      <td>1.0</td>\n",
              "      <td>0.0</td>\n",
              "      <td>0.0</td>\n",
              "      <td>0.0</td>\n",
              "      <td>0.0</td>\n",
              "      <td>0.0</td>\n",
              "      <td>0.0</td>\n",
              "      <td>0.0</td>\n",
              "      <td>0.0</td>\n",
              "      <td>0.0</td>\n",
              "      <td>0.0</td>\n",
              "      <td>0.0</td>\n",
              "      <td>0.0</td>\n",
              "      <td>0.0</td>\n",
              "      <td>0.0</td>\n",
              "      <td>0.0</td>\n",
              "      <td>0.0</td>\n",
              "      <td>0.0</td>\n",
              "      <td>0.0</td>\n",
              "      <td>0.0</td>\n",
              "      <td>0.0</td>\n",
              "      <td>0.0</td>\n",
              "      <td>0.0</td>\n",
              "      <td>0.0</td>\n",
              "      <td>0.0</td>\n",
              "      <td>0.0</td>\n",
              "      <td>0.0</td>\n",
              "      <td>0.0</td>\n",
              "      <td>0.0</td>\n",
              "      <td>0.0</td>\n",
              "    </tr>\n",
              "    <tr>\n",
              "      <th>1</th>\n",
              "      <td>0.0</td>\n",
              "      <td>0.0</td>\n",
              "      <td>0.0</td>\n",
              "      <td>0.0</td>\n",
              "      <td>0.0</td>\n",
              "      <td>1.0</td>\n",
              "      <td>0.0</td>\n",
              "      <td>0.0</td>\n",
              "      <td>0.0</td>\n",
              "      <td>0.0</td>\n",
              "      <td>0.0</td>\n",
              "      <td>0.0</td>\n",
              "      <td>0.0</td>\n",
              "      <td>1.0</td>\n",
              "      <td>0.0</td>\n",
              "      <td>0.0</td>\n",
              "      <td>0.0</td>\n",
              "      <td>0.0</td>\n",
              "      <td>1.0</td>\n",
              "      <td>0.0</td>\n",
              "      <td>0.0</td>\n",
              "      <td>0.0</td>\n",
              "      <td>0.0</td>\n",
              "      <td>0.0</td>\n",
              "      <td>0.0</td>\n",
              "      <td>0.0</td>\n",
              "      <td>0.0</td>\n",
              "      <td>0.0</td>\n",
              "      <td>0.0</td>\n",
              "      <td>0.0</td>\n",
              "      <td>0.0</td>\n",
              "      <td>0.0</td>\n",
              "      <td>0.0</td>\n",
              "      <td>0.0</td>\n",
              "      <td>0.0</td>\n",
              "      <td>0.0</td>\n",
              "      <td>0.0</td>\n",
              "      <td>0.0</td>\n",
              "      <td>0.0</td>\n",
              "      <td>0.0</td>\n",
              "      <td>0.0</td>\n",
              "      <td>0.0</td>\n",
              "      <td>0.0</td>\n",
              "      <td>0.0</td>\n",
              "      <td>0.0</td>\n",
              "      <td>0.0</td>\n",
              "      <td>0.0</td>\n",
              "      <td>0.0</td>\n",
              "    </tr>\n",
              "    <tr>\n",
              "      <th>2</th>\n",
              "      <td>0.0</td>\n",
              "      <td>0.0</td>\n",
              "      <td>0.0</td>\n",
              "      <td>0.0</td>\n",
              "      <td>0.0</td>\n",
              "      <td>1.0</td>\n",
              "      <td>0.0</td>\n",
              "      <td>0.0</td>\n",
              "      <td>0.0</td>\n",
              "      <td>0.0</td>\n",
              "      <td>0.0</td>\n",
              "      <td>0.0</td>\n",
              "      <td>0.0</td>\n",
              "      <td>1.0</td>\n",
              "      <td>0.0</td>\n",
              "      <td>0.0</td>\n",
              "      <td>0.0</td>\n",
              "      <td>0.0</td>\n",
              "      <td>1.0</td>\n",
              "      <td>0.0</td>\n",
              "      <td>0.0</td>\n",
              "      <td>0.0</td>\n",
              "      <td>0.0</td>\n",
              "      <td>0.0</td>\n",
              "      <td>0.0</td>\n",
              "      <td>0.0</td>\n",
              "      <td>0.0</td>\n",
              "      <td>0.0</td>\n",
              "      <td>0.0</td>\n",
              "      <td>0.0</td>\n",
              "      <td>0.0</td>\n",
              "      <td>0.0</td>\n",
              "      <td>0.0</td>\n",
              "      <td>0.0</td>\n",
              "      <td>0.0</td>\n",
              "      <td>0.0</td>\n",
              "      <td>0.0</td>\n",
              "      <td>0.0</td>\n",
              "      <td>0.0</td>\n",
              "      <td>0.0</td>\n",
              "      <td>0.0</td>\n",
              "      <td>0.0</td>\n",
              "      <td>0.0</td>\n",
              "      <td>0.0</td>\n",
              "      <td>0.0</td>\n",
              "      <td>0.0</td>\n",
              "      <td>0.0</td>\n",
              "      <td>0.0</td>\n",
              "    </tr>\n",
              "    <tr>\n",
              "      <th>3</th>\n",
              "      <td>0.0</td>\n",
              "      <td>0.0</td>\n",
              "      <td>0.0</td>\n",
              "      <td>0.0</td>\n",
              "      <td>0.0</td>\n",
              "      <td>1.0</td>\n",
              "      <td>0.0</td>\n",
              "      <td>0.0</td>\n",
              "      <td>0.0</td>\n",
              "      <td>0.0</td>\n",
              "      <td>0.0</td>\n",
              "      <td>0.0</td>\n",
              "      <td>0.0</td>\n",
              "      <td>1.0</td>\n",
              "      <td>0.0</td>\n",
              "      <td>0.0</td>\n",
              "      <td>0.0</td>\n",
              "      <td>0.0</td>\n",
              "      <td>1.0</td>\n",
              "      <td>0.0</td>\n",
              "      <td>0.0</td>\n",
              "      <td>0.0</td>\n",
              "      <td>0.0</td>\n",
              "      <td>0.0</td>\n",
              "      <td>0.0</td>\n",
              "      <td>0.0</td>\n",
              "      <td>0.0</td>\n",
              "      <td>0.0</td>\n",
              "      <td>0.0</td>\n",
              "      <td>0.0</td>\n",
              "      <td>0.0</td>\n",
              "      <td>0.0</td>\n",
              "      <td>0.0</td>\n",
              "      <td>0.0</td>\n",
              "      <td>0.0</td>\n",
              "      <td>0.0</td>\n",
              "      <td>0.0</td>\n",
              "      <td>0.0</td>\n",
              "      <td>0.0</td>\n",
              "      <td>0.0</td>\n",
              "      <td>0.0</td>\n",
              "      <td>0.0</td>\n",
              "      <td>0.0</td>\n",
              "      <td>0.0</td>\n",
              "      <td>0.0</td>\n",
              "      <td>0.0</td>\n",
              "      <td>0.0</td>\n",
              "      <td>0.0</td>\n",
              "    </tr>\n",
              "    <tr>\n",
              "      <th>4</th>\n",
              "      <td>0.0</td>\n",
              "      <td>0.0</td>\n",
              "      <td>0.0</td>\n",
              "      <td>0.0</td>\n",
              "      <td>0.0</td>\n",
              "      <td>1.0</td>\n",
              "      <td>0.0</td>\n",
              "      <td>0.0</td>\n",
              "      <td>0.0</td>\n",
              "      <td>0.0</td>\n",
              "      <td>0.0</td>\n",
              "      <td>0.0</td>\n",
              "      <td>0.0</td>\n",
              "      <td>1.0</td>\n",
              "      <td>0.0</td>\n",
              "      <td>0.0</td>\n",
              "      <td>0.0</td>\n",
              "      <td>0.0</td>\n",
              "      <td>1.0</td>\n",
              "      <td>0.0</td>\n",
              "      <td>0.0</td>\n",
              "      <td>0.0</td>\n",
              "      <td>0.0</td>\n",
              "      <td>0.0</td>\n",
              "      <td>0.0</td>\n",
              "      <td>0.0</td>\n",
              "      <td>0.0</td>\n",
              "      <td>0.0</td>\n",
              "      <td>0.0</td>\n",
              "      <td>0.0</td>\n",
              "      <td>0.0</td>\n",
              "      <td>0.0</td>\n",
              "      <td>0.0</td>\n",
              "      <td>0.0</td>\n",
              "      <td>0.0</td>\n",
              "      <td>0.0</td>\n",
              "      <td>0.0</td>\n",
              "      <td>0.0</td>\n",
              "      <td>0.0</td>\n",
              "      <td>0.0</td>\n",
              "      <td>0.0</td>\n",
              "      <td>0.0</td>\n",
              "      <td>0.0</td>\n",
              "      <td>0.0</td>\n",
              "      <td>0.0</td>\n",
              "      <td>0.0</td>\n",
              "      <td>0.0</td>\n",
              "      <td>0.0</td>\n",
              "    </tr>\n",
              "  </tbody>\n",
              "</table>\n",
              "</div>"
            ],
            "text/plain": [
              "   PrecipitationTotalInches  month0  month1  month2  ...  day27  day28  day29  day30\n",
              "0                       0.0     0.0     0.0     0.0  ...    0.0    0.0    0.0    0.0\n",
              "1                       0.0     0.0     0.0     0.0  ...    0.0    0.0    0.0    0.0\n",
              "2                       0.0     0.0     0.0     0.0  ...    0.0    0.0    0.0    0.0\n",
              "3                       0.0     0.0     0.0     0.0  ...    0.0    0.0    0.0    0.0\n",
              "4                       0.0     0.0     0.0     0.0  ...    0.0    0.0    0.0    0.0\n",
              "\n",
              "[5 rows x 48 columns]"
            ]
          },
          "metadata": {
            "tags": []
          },
          "execution_count": 49
        }
      ]
    },
    {
      "cell_type": "code",
      "metadata": {
        "id": "bZPas-H5omj0"
      },
      "source": [
        "from sklearn.model_selection import train_test_split\n",
        "\n",
        "X_train, X_test, y_train, y_test = train_test_split(X, y, test_size=0.33, random_state=42)"
      ],
      "execution_count": null,
      "outputs": []
    },
    {
      "cell_type": "code",
      "metadata": {
        "colab": {
          "base_uri": "https://localhost:8080/"
        },
        "id": "5RKjkizCpK_v",
        "outputId": "3ca4d819-bcd7-4e49-8783-a171e1ed0152"
      },
      "source": [
        "pip install catboost"
      ],
      "execution_count": null,
      "outputs": [
        {
          "output_type": "stream",
          "text": [
            "Collecting catboost\n",
            "\u001b[?25l  Downloading https://files.pythonhosted.org/packages/47/80/8e9c57ec32dfed6ba2922bc5c96462cbf8596ce1a6f5de532ad1e43e53fe/catboost-0.25.1-cp37-none-manylinux1_x86_64.whl (67.3MB)\n",
            "\u001b[K     |████████████████████████████████| 67.3MB 56kB/s \n",
            "\u001b[?25hRequirement already satisfied: scipy in /usr/local/lib/python3.7/dist-packages (from catboost) (1.4.1)\n",
            "Requirement already satisfied: numpy>=1.16.0 in /usr/local/lib/python3.7/dist-packages (from catboost) (1.19.5)\n",
            "Requirement already satisfied: six in /usr/local/lib/python3.7/dist-packages (from catboost) (1.15.0)\n",
            "Requirement already satisfied: pandas>=0.24.0 in /usr/local/lib/python3.7/dist-packages (from catboost) (1.1.5)\n",
            "Requirement already satisfied: graphviz in /usr/local/lib/python3.7/dist-packages (from catboost) (0.10.1)\n",
            "Requirement already satisfied: plotly in /usr/local/lib/python3.7/dist-packages (from catboost) (4.4.1)\n",
            "Requirement already satisfied: matplotlib in /usr/local/lib/python3.7/dist-packages (from catboost) (3.2.2)\n",
            "Requirement already satisfied: python-dateutil>=2.7.3 in /usr/local/lib/python3.7/dist-packages (from pandas>=0.24.0->catboost) (2.8.1)\n",
            "Requirement already satisfied: pytz>=2017.2 in /usr/local/lib/python3.7/dist-packages (from pandas>=0.24.0->catboost) (2018.9)\n",
            "Requirement already satisfied: retrying>=1.3.3 in /usr/local/lib/python3.7/dist-packages (from plotly->catboost) (1.3.3)\n",
            "Requirement already satisfied: pyparsing!=2.0.4,!=2.1.2,!=2.1.6,>=2.0.1 in /usr/local/lib/python3.7/dist-packages (from matplotlib->catboost) (2.4.7)\n",
            "Requirement already satisfied: cycler>=0.10 in /usr/local/lib/python3.7/dist-packages (from matplotlib->catboost) (0.10.0)\n",
            "Requirement already satisfied: kiwisolver>=1.0.1 in /usr/local/lib/python3.7/dist-packages (from matplotlib->catboost) (1.3.1)\n",
            "Installing collected packages: catboost\n",
            "Successfully installed catboost-0.25.1\n"
          ],
          "name": "stdout"
        }
      ]
    },
    {
      "cell_type": "code",
      "metadata": {
        "colab": {
          "base_uri": "https://localhost:8080/"
        },
        "id": "XIn2gFlZoslM",
        "outputId": "c94d2910-8f87-4918-9c75-5d2b19daf9df"
      },
      "source": [
        "from catboost import CatBoostRegressor\n",
        "\n",
        "model = CatBoostRegressor(iterations=200,\n",
        "                          learning_rate=1,\n",
        "                          depth=5)\n",
        "# Fit model\n",
        "model.fit(X_train, y_train)\n",
        "# Get predictions\n",
        "preds = model.predict(X_test)\n",
        "print(model.score(X_test, y_test))"
      ],
      "execution_count": null,
      "outputs": [
        {
          "output_type": "stream",
          "text": [
            "0:\tlearn: 1971.9738484\ttotal: 3.57ms\tremaining: 710ms\n",
            "1:\tlearn: 1896.7123751\ttotal: 8.26ms\tremaining: 818ms\n",
            "2:\tlearn: 1881.7483742\ttotal: 11.7ms\tremaining: 769ms\n",
            "3:\tlearn: 1877.5880171\ttotal: 15.2ms\tremaining: 745ms\n",
            "4:\tlearn: 1871.2803626\ttotal: 18.5ms\tremaining: 722ms\n",
            "5:\tlearn: 1864.1661301\ttotal: 22ms\tremaining: 711ms\n",
            "6:\tlearn: 1859.9438328\ttotal: 25.3ms\tremaining: 699ms\n",
            "7:\tlearn: 1854.8803986\ttotal: 28.7ms\tremaining: 689ms\n",
            "8:\tlearn: 1850.6988487\ttotal: 32.1ms\tremaining: 680ms\n",
            "9:\tlearn: 1844.9445099\ttotal: 35.4ms\tremaining: 673ms\n",
            "10:\tlearn: 1841.7943310\ttotal: 38.7ms\tremaining: 665ms\n",
            "11:\tlearn: 1837.1448473\ttotal: 42.1ms\tremaining: 660ms\n",
            "12:\tlearn: 1830.9815478\ttotal: 45.6ms\tremaining: 656ms\n",
            "13:\tlearn: 1826.8048509\ttotal: 49ms\tremaining: 651ms\n",
            "14:\tlearn: 1822.5936697\ttotal: 52.3ms\tremaining: 646ms\n",
            "15:\tlearn: 1818.1917045\ttotal: 55.6ms\tremaining: 640ms\n",
            "16:\tlearn: 1813.8210081\ttotal: 60.9ms\tremaining: 656ms\n",
            "17:\tlearn: 1810.4386270\ttotal: 65.2ms\tremaining: 659ms\n",
            "18:\tlearn: 1807.9512666\ttotal: 76.2ms\tremaining: 726ms\n",
            "19:\tlearn: 1804.0132918\ttotal: 80.3ms\tremaining: 723ms\n",
            "20:\tlearn: 1801.1296279\ttotal: 84.6ms\tremaining: 721ms\n",
            "21:\tlearn: 1797.8473632\ttotal: 88.5ms\tremaining: 716ms\n",
            "22:\tlearn: 1794.8036822\ttotal: 92.1ms\tremaining: 708ms\n",
            "23:\tlearn: 1791.9070218\ttotal: 95.5ms\tremaining: 701ms\n",
            "24:\tlearn: 1789.9014805\ttotal: 99.2ms\tremaining: 695ms\n",
            "25:\tlearn: 1787.6840660\ttotal: 103ms\tremaining: 689ms\n",
            "26:\tlearn: 1784.3558271\ttotal: 107ms\tremaining: 685ms\n",
            "27:\tlearn: 1782.3667906\ttotal: 111ms\tremaining: 680ms\n",
            "28:\tlearn: 1780.3179977\ttotal: 114ms\tremaining: 675ms\n",
            "29:\tlearn: 1777.2895426\ttotal: 120ms\tremaining: 678ms\n",
            "30:\tlearn: 1772.4647661\ttotal: 126ms\tremaining: 688ms\n",
            "31:\tlearn: 1769.4495332\ttotal: 131ms\tremaining: 688ms\n",
            "32:\tlearn: 1766.1738118\ttotal: 136ms\tremaining: 686ms\n",
            "33:\tlearn: 1762.5886873\ttotal: 139ms\tremaining: 680ms\n",
            "34:\tlearn: 1760.9643184\ttotal: 143ms\tremaining: 675ms\n",
            "35:\tlearn: 1758.2830972\ttotal: 147ms\tremaining: 672ms\n",
            "36:\tlearn: 1756.1360692\ttotal: 151ms\tremaining: 667ms\n",
            "37:\tlearn: 1754.5491400\ttotal: 155ms\tremaining: 661ms\n",
            "38:\tlearn: 1752.5158585\ttotal: 159ms\tremaining: 657ms\n",
            "39:\tlearn: 1750.8756498\ttotal: 163ms\tremaining: 651ms\n",
            "40:\tlearn: 1748.5573040\ttotal: 166ms\tremaining: 645ms\n",
            "41:\tlearn: 1745.9235104\ttotal: 171ms\tremaining: 643ms\n",
            "42:\tlearn: 1743.9015529\ttotal: 175ms\tremaining: 638ms\n",
            "43:\tlearn: 1741.9051449\ttotal: 178ms\tremaining: 633ms\n",
            "44:\tlearn: 1739.2459083\ttotal: 186ms\tremaining: 640ms\n",
            "45:\tlearn: 1736.9278049\ttotal: 194ms\tremaining: 648ms\n",
            "46:\tlearn: 1734.9359698\ttotal: 200ms\tremaining: 650ms\n",
            "47:\tlearn: 1732.7192053\ttotal: 204ms\tremaining: 645ms\n",
            "48:\tlearn: 1730.8546197\ttotal: 208ms\tremaining: 641ms\n",
            "49:\tlearn: 1729.2567737\ttotal: 212ms\tremaining: 635ms\n",
            "50:\tlearn: 1726.8355150\ttotal: 215ms\tremaining: 629ms\n",
            "51:\tlearn: 1726.1034992\ttotal: 219ms\tremaining: 623ms\n",
            "52:\tlearn: 1723.9809779\ttotal: 223ms\tremaining: 617ms\n",
            "53:\tlearn: 1722.5741605\ttotal: 226ms\tremaining: 612ms\n",
            "54:\tlearn: 1720.1565601\ttotal: 230ms\tremaining: 607ms\n",
            "55:\tlearn: 1717.6212229\ttotal: 234ms\tremaining: 602ms\n",
            "56:\tlearn: 1716.0007464\ttotal: 238ms\tremaining: 597ms\n",
            "57:\tlearn: 1714.5640496\ttotal: 242ms\tremaining: 593ms\n",
            "58:\tlearn: 1712.9604373\ttotal: 246ms\tremaining: 588ms\n",
            "59:\tlearn: 1711.0274715\ttotal: 249ms\tremaining: 582ms\n",
            "60:\tlearn: 1709.4915225\ttotal: 253ms\tremaining: 576ms\n",
            "61:\tlearn: 1707.5585170\ttotal: 257ms\tremaining: 571ms\n",
            "62:\tlearn: 1705.7734783\ttotal: 261ms\tremaining: 568ms\n",
            "63:\tlearn: 1704.5533056\ttotal: 265ms\tremaining: 564ms\n",
            "64:\tlearn: 1703.2522396\ttotal: 269ms\tremaining: 558ms\n",
            "65:\tlearn: 1701.8415175\ttotal: 273ms\tremaining: 554ms\n",
            "66:\tlearn: 1700.4192941\ttotal: 276ms\tremaining: 549ms\n",
            "67:\tlearn: 1699.8066413\ttotal: 280ms\tremaining: 544ms\n",
            "68:\tlearn: 1697.7470238\ttotal: 284ms\tremaining: 539ms\n",
            "69:\tlearn: 1696.8370203\ttotal: 288ms\tremaining: 535ms\n",
            "70:\tlearn: 1695.2721508\ttotal: 292ms\tremaining: 530ms\n",
            "71:\tlearn: 1693.7955523\ttotal: 295ms\tremaining: 525ms\n",
            "72:\tlearn: 1691.7734678\ttotal: 299ms\tremaining: 520ms\n",
            "73:\tlearn: 1690.9784909\ttotal: 302ms\tremaining: 515ms\n",
            "74:\tlearn: 1689.4596997\ttotal: 306ms\tremaining: 510ms\n",
            "75:\tlearn: 1688.5374462\ttotal: 310ms\tremaining: 505ms\n",
            "76:\tlearn: 1687.6550068\ttotal: 313ms\tremaining: 500ms\n",
            "77:\tlearn: 1686.5801975\ttotal: 317ms\tremaining: 495ms\n",
            "78:\tlearn: 1685.5818963\ttotal: 321ms\tremaining: 492ms\n",
            "79:\tlearn: 1684.5229305\ttotal: 325ms\tremaining: 487ms\n",
            "80:\tlearn: 1683.6646782\ttotal: 329ms\tremaining: 483ms\n",
            "81:\tlearn: 1682.6809728\ttotal: 332ms\tremaining: 478ms\n",
            "82:\tlearn: 1682.1708255\ttotal: 336ms\tremaining: 473ms\n",
            "83:\tlearn: 1680.9527549\ttotal: 339ms\tremaining: 468ms\n",
            "84:\tlearn: 1680.1779292\ttotal: 343ms\tremaining: 464ms\n",
            "85:\tlearn: 1679.2389955\ttotal: 346ms\tremaining: 459ms\n",
            "86:\tlearn: 1677.7952419\ttotal: 350ms\tremaining: 454ms\n",
            "87:\tlearn: 1677.3834858\ttotal: 353ms\tremaining: 450ms\n",
            "88:\tlearn: 1675.9653477\ttotal: 357ms\tremaining: 445ms\n",
            "89:\tlearn: 1675.4803589\ttotal: 361ms\tremaining: 441ms\n",
            "90:\tlearn: 1674.5643409\ttotal: 364ms\tremaining: 436ms\n",
            "91:\tlearn: 1673.8748552\ttotal: 368ms\tremaining: 432ms\n",
            "92:\tlearn: 1673.0461519\ttotal: 371ms\tremaining: 427ms\n",
            "93:\tlearn: 1672.4064784\ttotal: 375ms\tremaining: 423ms\n",
            "94:\tlearn: 1671.2652198\ttotal: 379ms\tremaining: 418ms\n",
            "95:\tlearn: 1670.4807763\ttotal: 382ms\tremaining: 414ms\n",
            "96:\tlearn: 1669.2579795\ttotal: 392ms\tremaining: 417ms\n",
            "97:\tlearn: 1668.2232705\ttotal: 396ms\tremaining: 412ms\n",
            "98:\tlearn: 1667.5842031\ttotal: 399ms\tremaining: 407ms\n",
            "99:\tlearn: 1666.9736407\ttotal: 403ms\tremaining: 403ms\n",
            "100:\tlearn: 1666.0512605\ttotal: 406ms\tremaining: 398ms\n",
            "101:\tlearn: 1665.3888872\ttotal: 409ms\tremaining: 393ms\n",
            "102:\tlearn: 1664.5384629\ttotal: 413ms\tremaining: 389ms\n",
            "103:\tlearn: 1663.6579311\ttotal: 416ms\tremaining: 384ms\n",
            "104:\tlearn: 1662.6457314\ttotal: 420ms\tremaining: 380ms\n",
            "105:\tlearn: 1662.1689970\ttotal: 423ms\tremaining: 375ms\n",
            "106:\tlearn: 1661.4673028\ttotal: 426ms\tremaining: 371ms\n",
            "107:\tlearn: 1660.9874944\ttotal: 431ms\tremaining: 367ms\n",
            "108:\tlearn: 1659.9592543\ttotal: 435ms\tremaining: 363ms\n",
            "109:\tlearn: 1658.9307684\ttotal: 440ms\tremaining: 360ms\n",
            "110:\tlearn: 1658.5676304\ttotal: 444ms\tremaining: 356ms\n",
            "111:\tlearn: 1657.6215803\ttotal: 448ms\tremaining: 352ms\n",
            "112:\tlearn: 1657.0360951\ttotal: 452ms\tremaining: 348ms\n",
            "113:\tlearn: 1656.0077994\ttotal: 455ms\tremaining: 343ms\n",
            "114:\tlearn: 1655.4668383\ttotal: 459ms\tremaining: 339ms\n",
            "115:\tlearn: 1654.5535758\ttotal: 462ms\tremaining: 335ms\n",
            "116:\tlearn: 1653.9718473\ttotal: 466ms\tremaining: 330ms\n",
            "117:\tlearn: 1653.0662405\ttotal: 469ms\tremaining: 326ms\n",
            "118:\tlearn: 1652.5324082\ttotal: 473ms\tremaining: 322ms\n",
            "119:\tlearn: 1652.1320747\ttotal: 477ms\tremaining: 318ms\n",
            "120:\tlearn: 1651.2934657\ttotal: 481ms\tremaining: 314ms\n",
            "121:\tlearn: 1650.3075759\ttotal: 484ms\tremaining: 309ms\n",
            "122:\tlearn: 1649.6745341\ttotal: 488ms\tremaining: 305ms\n",
            "123:\tlearn: 1649.2148725\ttotal: 491ms\tremaining: 301ms\n",
            "124:\tlearn: 1648.7040030\ttotal: 495ms\tremaining: 297ms\n",
            "125:\tlearn: 1648.1197066\ttotal: 499ms\tremaining: 293ms\n",
            "126:\tlearn: 1647.8064403\ttotal: 503ms\tremaining: 289ms\n",
            "127:\tlearn: 1647.0499054\ttotal: 506ms\tremaining: 285ms\n",
            "128:\tlearn: 1646.5552742\ttotal: 510ms\tremaining: 280ms\n",
            "129:\tlearn: 1646.1906086\ttotal: 513ms\tremaining: 276ms\n",
            "130:\tlearn: 1645.6763520\ttotal: 517ms\tremaining: 272ms\n",
            "131:\tlearn: 1645.2370331\ttotal: 520ms\tremaining: 268ms\n",
            "132:\tlearn: 1644.6971238\ttotal: 524ms\tremaining: 264ms\n",
            "133:\tlearn: 1644.0268733\ttotal: 527ms\tremaining: 260ms\n",
            "134:\tlearn: 1643.5116641\ttotal: 531ms\tremaining: 256ms\n",
            "135:\tlearn: 1642.8121785\ttotal: 534ms\tremaining: 251ms\n",
            "136:\tlearn: 1642.5679787\ttotal: 538ms\tremaining: 247ms\n",
            "137:\tlearn: 1642.3458716\ttotal: 541ms\tremaining: 243ms\n",
            "138:\tlearn: 1641.7207992\ttotal: 544ms\tremaining: 239ms\n",
            "139:\tlearn: 1641.3783483\ttotal: 548ms\tremaining: 235ms\n",
            "140:\tlearn: 1640.8844626\ttotal: 552ms\tremaining: 231ms\n",
            "141:\tlearn: 1640.3770467\ttotal: 555ms\tremaining: 227ms\n",
            "142:\tlearn: 1640.1356343\ttotal: 559ms\tremaining: 223ms\n",
            "143:\tlearn: 1639.7956320\ttotal: 563ms\tremaining: 219ms\n",
            "144:\tlearn: 1639.4814543\ttotal: 566ms\tremaining: 215ms\n",
            "145:\tlearn: 1639.0142215\ttotal: 570ms\tremaining: 211ms\n",
            "146:\tlearn: 1638.3367381\ttotal: 573ms\tremaining: 207ms\n",
            "147:\tlearn: 1638.1254823\ttotal: 577ms\tremaining: 203ms\n",
            "148:\tlearn: 1637.8204249\ttotal: 585ms\tremaining: 200ms\n",
            "149:\tlearn: 1637.4675780\ttotal: 589ms\tremaining: 196ms\n",
            "150:\tlearn: 1637.1463712\ttotal: 593ms\tremaining: 192ms\n",
            "151:\tlearn: 1636.8271401\ttotal: 596ms\tremaining: 188ms\n",
            "152:\tlearn: 1636.4903977\ttotal: 600ms\tremaining: 184ms\n",
            "153:\tlearn: 1636.2074681\ttotal: 603ms\tremaining: 180ms\n",
            "154:\tlearn: 1635.8597190\ttotal: 607ms\tremaining: 176ms\n",
            "155:\tlearn: 1635.4782386\ttotal: 610ms\tremaining: 172ms\n",
            "156:\tlearn: 1635.1923963\ttotal: 614ms\tremaining: 168ms\n",
            "157:\tlearn: 1634.6018544\ttotal: 617ms\tremaining: 164ms\n",
            "158:\tlearn: 1634.1925159\ttotal: 621ms\tremaining: 160ms\n",
            "159:\tlearn: 1633.8827764\ttotal: 625ms\tremaining: 156ms\n",
            "160:\tlearn: 1633.6516093\ttotal: 628ms\tremaining: 152ms\n",
            "161:\tlearn: 1633.1508799\ttotal: 634ms\tremaining: 149ms\n",
            "162:\tlearn: 1633.0436167\ttotal: 641ms\tremaining: 146ms\n",
            "163:\tlearn: 1632.6892456\ttotal: 644ms\tremaining: 141ms\n",
            "164:\tlearn: 1632.4601485\ttotal: 648ms\tremaining: 137ms\n",
            "165:\tlearn: 1631.9509831\ttotal: 652ms\tremaining: 133ms\n",
            "166:\tlearn: 1631.8196773\ttotal: 655ms\tremaining: 129ms\n",
            "167:\tlearn: 1631.7519762\ttotal: 659ms\tremaining: 125ms\n",
            "168:\tlearn: 1631.4660773\ttotal: 664ms\tremaining: 122ms\n",
            "169:\tlearn: 1631.1279132\ttotal: 670ms\tremaining: 118ms\n",
            "170:\tlearn: 1630.8087093\ttotal: 674ms\tremaining: 114ms\n",
            "171:\tlearn: 1630.7304152\ttotal: 677ms\tremaining: 110ms\n",
            "172:\tlearn: 1630.3925642\ttotal: 681ms\tremaining: 106ms\n",
            "173:\tlearn: 1630.2916037\ttotal: 685ms\tremaining: 102ms\n",
            "174:\tlearn: 1629.8851228\ttotal: 689ms\tremaining: 98.4ms\n",
            "175:\tlearn: 1629.6717000\ttotal: 693ms\tremaining: 94.4ms\n",
            "176:\tlearn: 1629.5095979\ttotal: 696ms\tremaining: 90.5ms\n",
            "177:\tlearn: 1629.3263405\ttotal: 700ms\tremaining: 86.5ms\n",
            "178:\tlearn: 1629.0397638\ttotal: 703ms\tremaining: 82.5ms\n",
            "179:\tlearn: 1628.8533345\ttotal: 708ms\tremaining: 78.7ms\n",
            "180:\tlearn: 1628.7231503\ttotal: 713ms\tremaining: 74.8ms\n",
            "181:\tlearn: 1628.5881287\ttotal: 719ms\tremaining: 71.1ms\n",
            "182:\tlearn: 1628.3467612\ttotal: 730ms\tremaining: 67.8ms\n",
            "183:\tlearn: 1628.0371689\ttotal: 736ms\tremaining: 64ms\n",
            "184:\tlearn: 1627.9169722\ttotal: 740ms\tremaining: 60ms\n",
            "185:\tlearn: 1627.7752358\ttotal: 744ms\tremaining: 56ms\n",
            "186:\tlearn: 1627.5290163\ttotal: 747ms\tremaining: 51.9ms\n",
            "187:\tlearn: 1627.3265264\ttotal: 751ms\tremaining: 47.9ms\n",
            "188:\tlearn: 1627.0635884\ttotal: 754ms\tremaining: 43.9ms\n",
            "189:\tlearn: 1626.9224817\ttotal: 758ms\tremaining: 39.9ms\n",
            "190:\tlearn: 1626.7041400\ttotal: 762ms\tremaining: 35.9ms\n",
            "191:\tlearn: 1626.5286412\ttotal: 766ms\tremaining: 31.9ms\n",
            "192:\tlearn: 1626.4071549\ttotal: 769ms\tremaining: 27.9ms\n",
            "193:\tlearn: 1626.2112960\ttotal: 777ms\tremaining: 24ms\n",
            "194:\tlearn: 1626.0347522\ttotal: 782ms\tremaining: 20ms\n",
            "195:\tlearn: 1625.9967568\ttotal: 786ms\tremaining: 16ms\n",
            "196:\tlearn: 1625.8760007\ttotal: 789ms\tremaining: 12ms\n",
            "197:\tlearn: 1625.6925384\ttotal: 792ms\tremaining: 8ms\n",
            "198:\tlearn: 1625.5576016\ttotal: 796ms\tremaining: 4ms\n",
            "199:\tlearn: 1625.4628379\ttotal: 799ms\tremaining: 0us\n",
            "0.529517408165971\n"
          ],
          "name": "stdout"
        }
      ]
    },
    {
      "cell_type": "code",
      "metadata": {
        "colab": {
          "base_uri": "https://localhost:8080/"
        },
        "id": "MmU7HwEfpIuT",
        "outputId": "eccc5025-4645-4dd3-e327-9eda8e03194b"
      },
      "source": [
        "preds[314]"
      ],
      "execution_count": null,
      "outputs": [
        {
          "output_type": "execute_result",
          "data": {
            "text/plain": [
              "11997.143813816647"
            ]
          },
          "metadata": {
            "tags": []
          },
          "execution_count": 69
        }
      ]
    },
    {
      "cell_type": "code",
      "metadata": {
        "colab": {
          "base_uri": "https://localhost:8080/",
          "height": 419
        },
        "id": "S13z5AC4pgHM",
        "outputId": "4a2892b9-76d0-4647-bdfb-0e5ff2878e00"
      },
      "source": [
        ""
      ],
      "execution_count": null,
      "outputs": [
        {
          "output_type": "execute_result",
          "data": {
            "text/html": [
              "<div>\n",
              "<style scoped>\n",
              "    .dataframe tbody tr th:only-of-type {\n",
              "        vertical-align: middle;\n",
              "    }\n",
              "\n",
              "    .dataframe tbody tr th {\n",
              "        vertical-align: top;\n",
              "    }\n",
              "\n",
              "    .dataframe thead th {\n",
              "        text-align: right;\n",
              "    }\n",
              "</style>\n",
              "<table border=\"1\" class=\"dataframe\">\n",
              "  <thead>\n",
              "    <tr style=\"text-align: right;\">\n",
              "      <th></th>\n",
              "      <th>PrecipitationTotalInches</th>\n",
              "    </tr>\n",
              "  </thead>\n",
              "  <tbody>\n",
              "    <tr>\n",
              "      <th>0</th>\n",
              "      <td>0.0</td>\n",
              "    </tr>\n",
              "    <tr>\n",
              "      <th>1</th>\n",
              "      <td>0.0</td>\n",
              "    </tr>\n",
              "    <tr>\n",
              "      <th>2</th>\n",
              "      <td>0.0</td>\n",
              "    </tr>\n",
              "    <tr>\n",
              "      <th>3</th>\n",
              "      <td>0.0</td>\n",
              "    </tr>\n",
              "    <tr>\n",
              "      <th>4</th>\n",
              "      <td>0.0</td>\n",
              "    </tr>\n",
              "    <tr>\n",
              "      <th>...</th>\n",
              "      <td>...</td>\n",
              "    </tr>\n",
              "    <tr>\n",
              "      <th>35059</th>\n",
              "      <td>0.0</td>\n",
              "    </tr>\n",
              "    <tr>\n",
              "      <th>35060</th>\n",
              "      <td>0.0</td>\n",
              "    </tr>\n",
              "    <tr>\n",
              "      <th>35061</th>\n",
              "      <td>0.0</td>\n",
              "    </tr>\n",
              "    <tr>\n",
              "      <th>35062</th>\n",
              "      <td>0.0</td>\n",
              "    </tr>\n",
              "    <tr>\n",
              "      <th>35063</th>\n",
              "      <td>0.0</td>\n",
              "    </tr>\n",
              "  </tbody>\n",
              "</table>\n",
              "<p>35064 rows × 1 columns</p>\n",
              "</div>"
            ],
            "text/plain": [
              "       PrecipitationTotalInches\n",
              "0                           0.0\n",
              "1                           0.0\n",
              "2                           0.0\n",
              "3                           0.0\n",
              "4                           0.0\n",
              "...                         ...\n",
              "35059                       0.0\n",
              "35060                       0.0\n",
              "35061                       0.0\n",
              "35062                       0.0\n",
              "35063                       0.0\n",
              "\n",
              "[35064 rows x 1 columns]"
            ]
          },
          "metadata": {
            "tags": []
          },
          "execution_count": 67
        }
      ]
    },
    {
      "cell_type": "code",
      "metadata": {
        "id": "NsLSWWCFqHBV"
      },
      "source": [
        "from sklearn.ensemble import RandomForestRegressor\n",
        "from sklearn.datasets import make_regression\n",
        "\n",
        "regr = RandomForestRegressor(max_depth=20, random_state=42, n_estimators=110)\n",
        "regr.fit(X_train, y_train)\n",
        "\n",
        "y_pred = regr.predict(X_test)"
      ],
      "execution_count": null,
      "outputs": []
    },
    {
      "cell_type": "code",
      "metadata": {
        "colab": {
          "base_uri": "https://localhost:8080/"
        },
        "id": "lRU79RnFrN9D",
        "outputId": "9fc0fe98-2c4d-47bd-9769-fddef2079243"
      },
      "source": [
        "regr.score(X_test, y_test)"
      ],
      "execution_count": null,
      "outputs": [
        {
          "output_type": "execute_result",
          "data": {
            "text/plain": [
              "0.5224912766573142"
            ]
          },
          "metadata": {
            "tags": []
          },
          "execution_count": 71
        }
      ]
    },
    {
      "cell_type": "code",
      "metadata": {
        "colab": {
          "base_uri": "https://localhost:8080/"
        },
        "id": "EVIoq7UMrR90",
        "outputId": "4aa88988-dcce-445c-b1dd-b6294658b971"
      },
      "source": [
        "y_pred[314]"
      ],
      "execution_count": null,
      "outputs": [
        {
          "output_type": "execute_result",
          "data": {
            "text/plain": [
              "11293.35317796747"
            ]
          },
          "metadata": {
            "tags": []
          },
          "execution_count": 72
        }
      ]
    },
    {
      "cell_type": "code",
      "metadata": {
        "id": "W61hKFWtrTt0"
      },
      "source": [
        "import lightgbm as lgb\n",
        "gbm = lgb.LGBMRegressor(num_leaves = 20, max_depth=5)\n",
        "gbm.fit(X_train, y_train)\n",
        "\n",
        "y_pred = gbm.predict(X_test)"
      ],
      "execution_count": null,
      "outputs": []
    },
    {
      "cell_type": "code",
      "metadata": {
        "colab": {
          "base_uri": "https://localhost:8080/"
        },
        "id": "npf-tX17ri9C",
        "outputId": "1225c2ad-46c5-45c4-934f-c255707c60a1"
      },
      "source": [
        "gbm.score(X_test, y_test)"
      ],
      "execution_count": null,
      "outputs": [
        {
          "output_type": "execute_result",
          "data": {
            "text/plain": [
              "0.47802659274664666"
            ]
          },
          "metadata": {
            "tags": []
          },
          "execution_count": 74
        }
      ]
    },
    {
      "cell_type": "code",
      "metadata": {
        "colab": {
          "base_uri": "https://localhost:8080/"
        },
        "id": "y8Kj2Ybcrm8s",
        "outputId": "9ad7a5f1-7dad-4e86-de54-fe23e223c5bc"
      },
      "source": [
        "y_pred[314]"
      ],
      "execution_count": null,
      "outputs": [
        {
          "output_type": "execute_result",
          "data": {
            "text/plain": [
              "11390.11647760227"
            ]
          },
          "metadata": {
            "tags": []
          },
          "execution_count": 75
        }
      ]
    },
    {
      "cell_type": "code",
      "metadata": {
        "id": "Vj2c2He1roft"
      },
      "source": [
        "df2 = pd.read_csv('drive/Shareddrives/Data Science Project/data/dallas_dataframe.csv')"
      ],
      "execution_count": null,
      "outputs": []
    },
    {
      "cell_type": "code",
      "metadata": {
        "colab": {
          "base_uri": "https://localhost:8080/",
          "height": 419
        },
        "id": "7LnDa6Yur79j",
        "outputId": "8f348650-8be6-462b-e947-43133a5d6ad3"
      },
      "source": [
        "df2"
      ],
      "execution_count": null,
      "outputs": [
        {
          "output_type": "execute_result",
          "data": {
            "text/html": [
              "<div>\n",
              "<style scoped>\n",
              "    .dataframe tbody tr th:only-of-type {\n",
              "        vertical-align: middle;\n",
              "    }\n",
              "\n",
              "    .dataframe tbody tr th {\n",
              "        vertical-align: top;\n",
              "    }\n",
              "\n",
              "    .dataframe thead th {\n",
              "        text-align: right;\n",
              "    }\n",
              "</style>\n",
              "<table border=\"1\" class=\"dataframe\">\n",
              "  <thead>\n",
              "    <tr style=\"text-align: right;\">\n",
              "      <th></th>\n",
              "      <th>Unnamed: 0</th>\n",
              "      <th>Year</th>\n",
              "      <th>Month</th>\n",
              "      <th>Day</th>\n",
              "      <th>PrecipitationTotalInches</th>\n",
              "      <th>NCENT</th>\n",
              "    </tr>\n",
              "  </thead>\n",
              "  <tbody>\n",
              "    <tr>\n",
              "      <th>0</th>\n",
              "      <td>0</td>\n",
              "      <td>2002</td>\n",
              "      <td>12</td>\n",
              "      <td>31</td>\n",
              "      <td>0.01</td>\n",
              "      <td>7311.082400</td>\n",
              "    </tr>\n",
              "    <tr>\n",
              "      <th>1</th>\n",
              "      <td>1</td>\n",
              "      <td>2002</td>\n",
              "      <td>5</td>\n",
              "      <td>1</td>\n",
              "      <td>0.99</td>\n",
              "      <td>11639.263205</td>\n",
              "    </tr>\n",
              "    <tr>\n",
              "      <th>2</th>\n",
              "      <td>2</td>\n",
              "      <td>2002</td>\n",
              "      <td>5</td>\n",
              "      <td>1</td>\n",
              "      <td>0.00</td>\n",
              "      <td>12100.144180</td>\n",
              "    </tr>\n",
              "    <tr>\n",
              "      <th>3</th>\n",
              "      <td>3</td>\n",
              "      <td>2002</td>\n",
              "      <td>5</td>\n",
              "      <td>1</td>\n",
              "      <td>0.00</td>\n",
              "      <td>12849.761626</td>\n",
              "    </tr>\n",
              "    <tr>\n",
              "      <th>4</th>\n",
              "      <td>4</td>\n",
              "      <td>2002</td>\n",
              "      <td>5</td>\n",
              "      <td>1</td>\n",
              "      <td>0.00</td>\n",
              "      <td>13855.505612</td>\n",
              "    </tr>\n",
              "    <tr>\n",
              "      <th>...</th>\n",
              "      <td>...</td>\n",
              "      <td>...</td>\n",
              "      <td>...</td>\n",
              "      <td>...</td>\n",
              "      <td>...</td>\n",
              "      <td>...</td>\n",
              "    </tr>\n",
              "    <tr>\n",
              "      <th>75460</th>\n",
              "      <td>75460</td>\n",
              "      <td>2010</td>\n",
              "      <td>3</td>\n",
              "      <td>12</td>\n",
              "      <td>0.00</td>\n",
              "      <td>11895.648356</td>\n",
              "    </tr>\n",
              "    <tr>\n",
              "      <th>75461</th>\n",
              "      <td>75461</td>\n",
              "      <td>2010</td>\n",
              "      <td>3</td>\n",
              "      <td>12</td>\n",
              "      <td>0.00</td>\n",
              "      <td>10216.300377</td>\n",
              "    </tr>\n",
              "    <tr>\n",
              "      <th>75462</th>\n",
              "      <td>75462</td>\n",
              "      <td>2010</td>\n",
              "      <td>3</td>\n",
              "      <td>12</td>\n",
              "      <td>0.00</td>\n",
              "      <td>9209.659571</td>\n",
              "    </tr>\n",
              "    <tr>\n",
              "      <th>75463</th>\n",
              "      <td>75463</td>\n",
              "      <td>2010</td>\n",
              "      <td>3</td>\n",
              "      <td>12</td>\n",
              "      <td>0.00</td>\n",
              "      <td>8816.409554</td>\n",
              "    </tr>\n",
              "    <tr>\n",
              "      <th>75464</th>\n",
              "      <td>75464</td>\n",
              "      <td>2010</td>\n",
              "      <td>3</td>\n",
              "      <td>12</td>\n",
              "      <td>0.00</td>\n",
              "      <td>8673.315666</td>\n",
              "    </tr>\n",
              "  </tbody>\n",
              "</table>\n",
              "<p>75465 rows × 6 columns</p>\n",
              "</div>"
            ],
            "text/plain": [
              "       Unnamed: 0  Year  Month  Day  PrecipitationTotalInches         NCENT\n",
              "0               0  2002     12   31                      0.01   7311.082400\n",
              "1               1  2002      5    1                      0.99  11639.263205\n",
              "2               2  2002      5    1                      0.00  12100.144180\n",
              "3               3  2002      5    1                      0.00  12849.761626\n",
              "4               4  2002      5    1                      0.00  13855.505612\n",
              "...           ...   ...    ...  ...                       ...           ...\n",
              "75460       75460  2010      3   12                      0.00  11895.648356\n",
              "75461       75461  2010      3   12                      0.00  10216.300377\n",
              "75462       75462  2010      3   12                      0.00   9209.659571\n",
              "75463       75463  2010      3   12                      0.00   8816.409554\n",
              "75464       75464  2010      3   12                      0.00   8673.315666\n",
              "\n",
              "[75465 rows x 6 columns]"
            ]
          },
          "metadata": {
            "tags": []
          },
          "execution_count": 77
        }
      ]
    },
    {
      "cell_type": "code",
      "metadata": {
        "colab": {
          "base_uri": "https://localhost:8080/",
          "height": 419
        },
        "id": "Z4zory4xr_0z",
        "outputId": "ad29ef3f-91ea-4586-cd9b-98c25deac091"
      },
      "source": [
        "df2_clean = df2.drop(columns=['Unnamed: 0'])\n",
        "df2_clean"
      ],
      "execution_count": null,
      "outputs": [
        {
          "output_type": "execute_result",
          "data": {
            "text/html": [
              "<div>\n",
              "<style scoped>\n",
              "    .dataframe tbody tr th:only-of-type {\n",
              "        vertical-align: middle;\n",
              "    }\n",
              "\n",
              "    .dataframe tbody tr th {\n",
              "        vertical-align: top;\n",
              "    }\n",
              "\n",
              "    .dataframe thead th {\n",
              "        text-align: right;\n",
              "    }\n",
              "</style>\n",
              "<table border=\"1\" class=\"dataframe\">\n",
              "  <thead>\n",
              "    <tr style=\"text-align: right;\">\n",
              "      <th></th>\n",
              "      <th>Year</th>\n",
              "      <th>Month</th>\n",
              "      <th>Day</th>\n",
              "      <th>PrecipitationTotalInches</th>\n",
              "      <th>NCENT</th>\n",
              "    </tr>\n",
              "  </thead>\n",
              "  <tbody>\n",
              "    <tr>\n",
              "      <th>0</th>\n",
              "      <td>2002</td>\n",
              "      <td>12</td>\n",
              "      <td>31</td>\n",
              "      <td>0.01</td>\n",
              "      <td>7311.082400</td>\n",
              "    </tr>\n",
              "    <tr>\n",
              "      <th>1</th>\n",
              "      <td>2002</td>\n",
              "      <td>5</td>\n",
              "      <td>1</td>\n",
              "      <td>0.99</td>\n",
              "      <td>11639.263205</td>\n",
              "    </tr>\n",
              "    <tr>\n",
              "      <th>2</th>\n",
              "      <td>2002</td>\n",
              "      <td>5</td>\n",
              "      <td>1</td>\n",
              "      <td>0.00</td>\n",
              "      <td>12100.144180</td>\n",
              "    </tr>\n",
              "    <tr>\n",
              "      <th>3</th>\n",
              "      <td>2002</td>\n",
              "      <td>5</td>\n",
              "      <td>1</td>\n",
              "      <td>0.00</td>\n",
              "      <td>12849.761626</td>\n",
              "    </tr>\n",
              "    <tr>\n",
              "      <th>4</th>\n",
              "      <td>2002</td>\n",
              "      <td>5</td>\n",
              "      <td>1</td>\n",
              "      <td>0.00</td>\n",
              "      <td>13855.505612</td>\n",
              "    </tr>\n",
              "    <tr>\n",
              "      <th>...</th>\n",
              "      <td>...</td>\n",
              "      <td>...</td>\n",
              "      <td>...</td>\n",
              "      <td>...</td>\n",
              "      <td>...</td>\n",
              "    </tr>\n",
              "    <tr>\n",
              "      <th>75460</th>\n",
              "      <td>2010</td>\n",
              "      <td>3</td>\n",
              "      <td>12</td>\n",
              "      <td>0.00</td>\n",
              "      <td>11895.648356</td>\n",
              "    </tr>\n",
              "    <tr>\n",
              "      <th>75461</th>\n",
              "      <td>2010</td>\n",
              "      <td>3</td>\n",
              "      <td>12</td>\n",
              "      <td>0.00</td>\n",
              "      <td>10216.300377</td>\n",
              "    </tr>\n",
              "    <tr>\n",
              "      <th>75462</th>\n",
              "      <td>2010</td>\n",
              "      <td>3</td>\n",
              "      <td>12</td>\n",
              "      <td>0.00</td>\n",
              "      <td>9209.659571</td>\n",
              "    </tr>\n",
              "    <tr>\n",
              "      <th>75463</th>\n",
              "      <td>2010</td>\n",
              "      <td>3</td>\n",
              "      <td>12</td>\n",
              "      <td>0.00</td>\n",
              "      <td>8816.409554</td>\n",
              "    </tr>\n",
              "    <tr>\n",
              "      <th>75464</th>\n",
              "      <td>2010</td>\n",
              "      <td>3</td>\n",
              "      <td>12</td>\n",
              "      <td>0.00</td>\n",
              "      <td>8673.315666</td>\n",
              "    </tr>\n",
              "  </tbody>\n",
              "</table>\n",
              "<p>75465 rows × 5 columns</p>\n",
              "</div>"
            ],
            "text/plain": [
              "       Year  Month  Day  PrecipitationTotalInches         NCENT\n",
              "0      2002     12   31                      0.01   7311.082400\n",
              "1      2002      5    1                      0.99  11639.263205\n",
              "2      2002      5    1                      0.00  12100.144180\n",
              "3      2002      5    1                      0.00  12849.761626\n",
              "4      2002      5    1                      0.00  13855.505612\n",
              "...     ...    ...  ...                       ...           ...\n",
              "75460  2010      3   12                      0.00  11895.648356\n",
              "75461  2010      3   12                      0.00  10216.300377\n",
              "75462  2010      3   12                      0.00   9209.659571\n",
              "75463  2010      3   12                      0.00   8816.409554\n",
              "75464  2010      3   12                      0.00   8673.315666\n",
              "\n",
              "[75465 rows x 5 columns]"
            ]
          },
          "metadata": {
            "tags": []
          },
          "execution_count": 78
        }
      ]
    },
    {
      "cell_type": "code",
      "metadata": {
        "colab": {
          "base_uri": "https://localhost:8080/",
          "height": 419
        },
        "id": "sekUmUfOsFIj",
        "outputId": "62d60f12-0ed3-4f6b-9b66-afc810a4a62b"
      },
      "source": [
        "year = df2_clean['Year']\n",
        "df2_clean.drop(labels=['Year'], axis=1, inplace=True)\n",
        "df2_clean.insert(2, 'Year', year)\n",
        "df2_clean"
      ],
      "execution_count": null,
      "outputs": [
        {
          "output_type": "execute_result",
          "data": {
            "text/html": [
              "<div>\n",
              "<style scoped>\n",
              "    .dataframe tbody tr th:only-of-type {\n",
              "        vertical-align: middle;\n",
              "    }\n",
              "\n",
              "    .dataframe tbody tr th {\n",
              "        vertical-align: top;\n",
              "    }\n",
              "\n",
              "    .dataframe thead th {\n",
              "        text-align: right;\n",
              "    }\n",
              "</style>\n",
              "<table border=\"1\" class=\"dataframe\">\n",
              "  <thead>\n",
              "    <tr style=\"text-align: right;\">\n",
              "      <th></th>\n",
              "      <th>Month</th>\n",
              "      <th>Day</th>\n",
              "      <th>Year</th>\n",
              "      <th>PrecipitationTotalInches</th>\n",
              "      <th>NCENT</th>\n",
              "    </tr>\n",
              "  </thead>\n",
              "  <tbody>\n",
              "    <tr>\n",
              "      <th>0</th>\n",
              "      <td>12</td>\n",
              "      <td>31</td>\n",
              "      <td>2002</td>\n",
              "      <td>0.01</td>\n",
              "      <td>7311.082400</td>\n",
              "    </tr>\n",
              "    <tr>\n",
              "      <th>1</th>\n",
              "      <td>5</td>\n",
              "      <td>1</td>\n",
              "      <td>2002</td>\n",
              "      <td>0.99</td>\n",
              "      <td>11639.263205</td>\n",
              "    </tr>\n",
              "    <tr>\n",
              "      <th>2</th>\n",
              "      <td>5</td>\n",
              "      <td>1</td>\n",
              "      <td>2002</td>\n",
              "      <td>0.00</td>\n",
              "      <td>12100.144180</td>\n",
              "    </tr>\n",
              "    <tr>\n",
              "      <th>3</th>\n",
              "      <td>5</td>\n",
              "      <td>1</td>\n",
              "      <td>2002</td>\n",
              "      <td>0.00</td>\n",
              "      <td>12849.761626</td>\n",
              "    </tr>\n",
              "    <tr>\n",
              "      <th>4</th>\n",
              "      <td>5</td>\n",
              "      <td>1</td>\n",
              "      <td>2002</td>\n",
              "      <td>0.00</td>\n",
              "      <td>13855.505612</td>\n",
              "    </tr>\n",
              "    <tr>\n",
              "      <th>...</th>\n",
              "      <td>...</td>\n",
              "      <td>...</td>\n",
              "      <td>...</td>\n",
              "      <td>...</td>\n",
              "      <td>...</td>\n",
              "    </tr>\n",
              "    <tr>\n",
              "      <th>75460</th>\n",
              "      <td>3</td>\n",
              "      <td>12</td>\n",
              "      <td>2010</td>\n",
              "      <td>0.00</td>\n",
              "      <td>11895.648356</td>\n",
              "    </tr>\n",
              "    <tr>\n",
              "      <th>75461</th>\n",
              "      <td>3</td>\n",
              "      <td>12</td>\n",
              "      <td>2010</td>\n",
              "      <td>0.00</td>\n",
              "      <td>10216.300377</td>\n",
              "    </tr>\n",
              "    <tr>\n",
              "      <th>75462</th>\n",
              "      <td>3</td>\n",
              "      <td>12</td>\n",
              "      <td>2010</td>\n",
              "      <td>0.00</td>\n",
              "      <td>9209.659571</td>\n",
              "    </tr>\n",
              "    <tr>\n",
              "      <th>75463</th>\n",
              "      <td>3</td>\n",
              "      <td>12</td>\n",
              "      <td>2010</td>\n",
              "      <td>0.00</td>\n",
              "      <td>8816.409554</td>\n",
              "    </tr>\n",
              "    <tr>\n",
              "      <th>75464</th>\n",
              "      <td>3</td>\n",
              "      <td>12</td>\n",
              "      <td>2010</td>\n",
              "      <td>0.00</td>\n",
              "      <td>8673.315666</td>\n",
              "    </tr>\n",
              "  </tbody>\n",
              "</table>\n",
              "<p>75465 rows × 5 columns</p>\n",
              "</div>"
            ],
            "text/plain": [
              "       Month  Day  Year  PrecipitationTotalInches         NCENT\n",
              "0         12   31  2002                      0.01   7311.082400\n",
              "1          5    1  2002                      0.99  11639.263205\n",
              "2          5    1  2002                      0.00  12100.144180\n",
              "3          5    1  2002                      0.00  12849.761626\n",
              "4          5    1  2002                      0.00  13855.505612\n",
              "...      ...  ...   ...                       ...           ...\n",
              "75460      3   12  2010                      0.00  11895.648356\n",
              "75461      3   12  2010                      0.00  10216.300377\n",
              "75462      3   12  2010                      0.00   9209.659571\n",
              "75463      3   12  2010                      0.00   8816.409554\n",
              "75464      3   12  2010                      0.00   8673.315666\n",
              "\n",
              "[75465 rows x 5 columns]"
            ]
          },
          "metadata": {
            "tags": []
          },
          "execution_count": 79
        }
      ]
    },
    {
      "cell_type": "code",
      "metadata": {
        "colab": {
          "base_uri": "https://localhost:8080/"
        },
        "id": "j4TeHPMGsXM0",
        "outputId": "2fef21e5-1f0e-4387-fa7d-f920daa7e5df"
      },
      "source": [
        "df2_clean.isnull().sum()"
      ],
      "execution_count": null,
      "outputs": [
        {
          "output_type": "execute_result",
          "data": {
            "text/plain": [
              "Month                       0\n",
              "Day                         0\n",
              "Year                        0\n",
              "PrecipitationTotalInches    0\n",
              "NCENT                       0\n",
              "dtype: int64"
            ]
          },
          "metadata": {
            "tags": []
          },
          "execution_count": 82
        }
      ]
    },
    {
      "cell_type": "code",
      "metadata": {
        "id": "CbH2WIOwsb6U"
      },
      "source": [
        "X = df2_clean.drop(['NCENT'], axis=1)\n",
        "y = df2_clean['NCENT']"
      ],
      "execution_count": null,
      "outputs": []
    },
    {
      "cell_type": "code",
      "metadata": {
        "id": "bE-c8_rYsj7M"
      },
      "source": [
        "cat_ft = ['Month', 'Day', 'Year']\n",
        "num_ft = (list(X._get_numeric_data().columns))"
      ],
      "execution_count": null,
      "outputs": []
    },
    {
      "cell_type": "code",
      "metadata": {
        "id": "EL7WgY74ss48"
      },
      "source": [
        "def prepend(list, str):  \n",
        "    # Using format()\n",
        "    str += '{0}'\n",
        "    list = [str.format(i) for i in list]\n",
        "    return(list)"
      ],
      "execution_count": null,
      "outputs": []
    },
    {
      "cell_type": "code",
      "metadata": {
        "id": "NVEMW5qisuZq"
      },
      "source": [
        "from numpy import array\n",
        "from numpy import argmax\n",
        "from sklearn.preprocessing import LabelEncoder\n",
        "from sklearn.preprocessing import OneHotEncoder\n",
        "\n",
        "# define example\n",
        "data = X['Month']\n",
        "values = array(data)\n",
        "\n",
        "# integer encode\n",
        "label_encoder = LabelEncoder()\n",
        "integer_encoded = label_encoder.fit_transform(values)\n",
        "\n",
        "# binary encode\n",
        "onehot_encoder = OneHotEncoder(sparse=False)\n",
        "integer_encoded = integer_encoded.reshape(len(integer_encoded), 1)\n",
        "onehot_encoded = onehot_encoder.fit_transform(integer_encoded)\n"
      ],
      "execution_count": null,
      "outputs": []
    },
    {
      "cell_type": "code",
      "metadata": {
        "id": "-863Kp3Dsvtb"
      },
      "source": [
        "months = pd.DataFrame(onehot_encoded)"
      ],
      "execution_count": null,
      "outputs": []
    },
    {
      "cell_type": "code",
      "metadata": {
        "id": "ln9b4xvesxhM"
      },
      "source": [
        "months.columns = (prepend(list(months.columns), 'month'))"
      ],
      "execution_count": null,
      "outputs": []
    },
    {
      "cell_type": "code",
      "metadata": {
        "id": "dW6fH-4mszHz"
      },
      "source": [
        "# OHE Days\n",
        "data = X['Day']\n",
        "values = array(data)\n",
        "\n",
        "# integer encode\n",
        "label_encoder = LabelEncoder()\n",
        "integer_encoded = label_encoder.fit_transform(values)\n",
        "\n",
        "# binary encode\n",
        "onehot_encoder = OneHotEncoder(sparse=False)\n",
        "integer_encoded = integer_encoded.reshape(len(integer_encoded), 1)\n",
        "onehot_encoded = onehot_encoder.fit_transform(integer_encoded)\n",
        "days = pd.DataFrame(onehot_encoded)"
      ],
      "execution_count": null,
      "outputs": []
    },
    {
      "cell_type": "code",
      "metadata": {
        "id": "tXoK_ca7s0f7"
      },
      "source": [
        "days.columns = (prepend(list(days.columns), 'day'))"
      ],
      "execution_count": null,
      "outputs": []
    },
    {
      "cell_type": "code",
      "metadata": {
        "id": "sQ1g1NAUs2RL"
      },
      "source": [
        "# OHE Year\n",
        "data = X['Year']\n",
        "values = array(data)\n",
        "\n",
        "# integer encode\n",
        "label_encoder = LabelEncoder()\n",
        "integer_encoded = label_encoder.fit_transform(values)\n",
        "\n",
        "# binary encode\n",
        "onehot_encoder = OneHotEncoder(sparse=False)\n",
        "integer_encoded = integer_encoded.reshape(len(integer_encoded), 1)\n",
        "onehot_encoded = onehot_encoder.fit_transform(integer_encoded)\n",
        "\n",
        "years = pd.DataFrame(onehot_encoded)"
      ],
      "execution_count": null,
      "outputs": []
    },
    {
      "cell_type": "code",
      "metadata": {
        "id": "39PA5wSXs3uk"
      },
      "source": [
        "renamed_years = (prepend(list(years.columns), 'year'))\n",
        "years.columns = renamed_years"
      ],
      "execution_count": null,
      "outputs": []
    },
    {
      "cell_type": "code",
      "metadata": {
        "id": "Aj4vuXwis5Tf"
      },
      "source": [
        "X = pd.concat([X, months,], axis=1)\n",
        "X = pd.concat([X, years,], axis=1)\n",
        "X = pd.concat([X, days,], axis=1)"
      ],
      "execution_count": null,
      "outputs": []
    },
    {
      "cell_type": "code",
      "metadata": {
        "colab": {
          "base_uri": "https://localhost:8080/",
          "height": 224
        },
        "id": "hhHOhAvvs6mr",
        "outputId": "8177a159-d595-4152-96c2-fa512d587774"
      },
      "source": [
        "X = X.drop(columns=['Month', 'Day', 'Year',])\n",
        "X.head()"
      ],
      "execution_count": null,
      "outputs": [
        {
          "output_type": "execute_result",
          "data": {
            "text/html": [
              "<div>\n",
              "<style scoped>\n",
              "    .dataframe tbody tr th:only-of-type {\n",
              "        vertical-align: middle;\n",
              "    }\n",
              "\n",
              "    .dataframe tbody tr th {\n",
              "        vertical-align: top;\n",
              "    }\n",
              "\n",
              "    .dataframe thead th {\n",
              "        text-align: right;\n",
              "    }\n",
              "</style>\n",
              "<table border=\"1\" class=\"dataframe\">\n",
              "  <thead>\n",
              "    <tr style=\"text-align: right;\">\n",
              "      <th></th>\n",
              "      <th>PrecipitationTotalInches</th>\n",
              "      <th>month0</th>\n",
              "      <th>month1</th>\n",
              "      <th>month2</th>\n",
              "      <th>month3</th>\n",
              "      <th>month4</th>\n",
              "      <th>month5</th>\n",
              "      <th>month6</th>\n",
              "      <th>month7</th>\n",
              "      <th>month8</th>\n",
              "      <th>month9</th>\n",
              "      <th>month10</th>\n",
              "      <th>month11</th>\n",
              "      <th>year0</th>\n",
              "      <th>year1</th>\n",
              "      <th>year2</th>\n",
              "      <th>year3</th>\n",
              "      <th>year4</th>\n",
              "      <th>year5</th>\n",
              "      <th>year6</th>\n",
              "      <th>year7</th>\n",
              "      <th>year8</th>\n",
              "      <th>day0</th>\n",
              "      <th>day1</th>\n",
              "      <th>day2</th>\n",
              "      <th>day3</th>\n",
              "      <th>day4</th>\n",
              "      <th>day5</th>\n",
              "      <th>day6</th>\n",
              "      <th>day7</th>\n",
              "      <th>day8</th>\n",
              "      <th>day9</th>\n",
              "      <th>day10</th>\n",
              "      <th>day11</th>\n",
              "      <th>day12</th>\n",
              "      <th>day13</th>\n",
              "      <th>day14</th>\n",
              "      <th>day15</th>\n",
              "      <th>day16</th>\n",
              "      <th>day17</th>\n",
              "      <th>day18</th>\n",
              "      <th>day19</th>\n",
              "      <th>day20</th>\n",
              "      <th>day21</th>\n",
              "      <th>day22</th>\n",
              "      <th>day23</th>\n",
              "      <th>day24</th>\n",
              "      <th>day25</th>\n",
              "      <th>day26</th>\n",
              "      <th>day27</th>\n",
              "      <th>day28</th>\n",
              "      <th>day29</th>\n",
              "      <th>day30</th>\n",
              "    </tr>\n",
              "  </thead>\n",
              "  <tbody>\n",
              "    <tr>\n",
              "      <th>0</th>\n",
              "      <td>0.01</td>\n",
              "      <td>0.0</td>\n",
              "      <td>0.0</td>\n",
              "      <td>0.0</td>\n",
              "      <td>0.0</td>\n",
              "      <td>0.0</td>\n",
              "      <td>0.0</td>\n",
              "      <td>0.0</td>\n",
              "      <td>0.0</td>\n",
              "      <td>0.0</td>\n",
              "      <td>0.0</td>\n",
              "      <td>0.0</td>\n",
              "      <td>1.0</td>\n",
              "      <td>1.0</td>\n",
              "      <td>0.0</td>\n",
              "      <td>0.0</td>\n",
              "      <td>0.0</td>\n",
              "      <td>0.0</td>\n",
              "      <td>0.0</td>\n",
              "      <td>0.0</td>\n",
              "      <td>0.0</td>\n",
              "      <td>0.0</td>\n",
              "      <td>0.0</td>\n",
              "      <td>0.0</td>\n",
              "      <td>0.0</td>\n",
              "      <td>0.0</td>\n",
              "      <td>0.0</td>\n",
              "      <td>0.0</td>\n",
              "      <td>0.0</td>\n",
              "      <td>0.0</td>\n",
              "      <td>0.0</td>\n",
              "      <td>0.0</td>\n",
              "      <td>0.0</td>\n",
              "      <td>0.0</td>\n",
              "      <td>0.0</td>\n",
              "      <td>0.0</td>\n",
              "      <td>0.0</td>\n",
              "      <td>0.0</td>\n",
              "      <td>0.0</td>\n",
              "      <td>0.0</td>\n",
              "      <td>0.0</td>\n",
              "      <td>0.0</td>\n",
              "      <td>0.0</td>\n",
              "      <td>0.0</td>\n",
              "      <td>0.0</td>\n",
              "      <td>0.0</td>\n",
              "      <td>0.0</td>\n",
              "      <td>0.0</td>\n",
              "      <td>0.0</td>\n",
              "      <td>0.0</td>\n",
              "      <td>0.0</td>\n",
              "      <td>0.0</td>\n",
              "      <td>1.0</td>\n",
              "    </tr>\n",
              "    <tr>\n",
              "      <th>1</th>\n",
              "      <td>0.99</td>\n",
              "      <td>0.0</td>\n",
              "      <td>0.0</td>\n",
              "      <td>0.0</td>\n",
              "      <td>0.0</td>\n",
              "      <td>1.0</td>\n",
              "      <td>0.0</td>\n",
              "      <td>0.0</td>\n",
              "      <td>0.0</td>\n",
              "      <td>0.0</td>\n",
              "      <td>0.0</td>\n",
              "      <td>0.0</td>\n",
              "      <td>0.0</td>\n",
              "      <td>1.0</td>\n",
              "      <td>0.0</td>\n",
              "      <td>0.0</td>\n",
              "      <td>0.0</td>\n",
              "      <td>0.0</td>\n",
              "      <td>0.0</td>\n",
              "      <td>0.0</td>\n",
              "      <td>0.0</td>\n",
              "      <td>0.0</td>\n",
              "      <td>1.0</td>\n",
              "      <td>0.0</td>\n",
              "      <td>0.0</td>\n",
              "      <td>0.0</td>\n",
              "      <td>0.0</td>\n",
              "      <td>0.0</td>\n",
              "      <td>0.0</td>\n",
              "      <td>0.0</td>\n",
              "      <td>0.0</td>\n",
              "      <td>0.0</td>\n",
              "      <td>0.0</td>\n",
              "      <td>0.0</td>\n",
              "      <td>0.0</td>\n",
              "      <td>0.0</td>\n",
              "      <td>0.0</td>\n",
              "      <td>0.0</td>\n",
              "      <td>0.0</td>\n",
              "      <td>0.0</td>\n",
              "      <td>0.0</td>\n",
              "      <td>0.0</td>\n",
              "      <td>0.0</td>\n",
              "      <td>0.0</td>\n",
              "      <td>0.0</td>\n",
              "      <td>0.0</td>\n",
              "      <td>0.0</td>\n",
              "      <td>0.0</td>\n",
              "      <td>0.0</td>\n",
              "      <td>0.0</td>\n",
              "      <td>0.0</td>\n",
              "      <td>0.0</td>\n",
              "      <td>0.0</td>\n",
              "    </tr>\n",
              "    <tr>\n",
              "      <th>2</th>\n",
              "      <td>0.00</td>\n",
              "      <td>0.0</td>\n",
              "      <td>0.0</td>\n",
              "      <td>0.0</td>\n",
              "      <td>0.0</td>\n",
              "      <td>1.0</td>\n",
              "      <td>0.0</td>\n",
              "      <td>0.0</td>\n",
              "      <td>0.0</td>\n",
              "      <td>0.0</td>\n",
              "      <td>0.0</td>\n",
              "      <td>0.0</td>\n",
              "      <td>0.0</td>\n",
              "      <td>1.0</td>\n",
              "      <td>0.0</td>\n",
              "      <td>0.0</td>\n",
              "      <td>0.0</td>\n",
              "      <td>0.0</td>\n",
              "      <td>0.0</td>\n",
              "      <td>0.0</td>\n",
              "      <td>0.0</td>\n",
              "      <td>0.0</td>\n",
              "      <td>1.0</td>\n",
              "      <td>0.0</td>\n",
              "      <td>0.0</td>\n",
              "      <td>0.0</td>\n",
              "      <td>0.0</td>\n",
              "      <td>0.0</td>\n",
              "      <td>0.0</td>\n",
              "      <td>0.0</td>\n",
              "      <td>0.0</td>\n",
              "      <td>0.0</td>\n",
              "      <td>0.0</td>\n",
              "      <td>0.0</td>\n",
              "      <td>0.0</td>\n",
              "      <td>0.0</td>\n",
              "      <td>0.0</td>\n",
              "      <td>0.0</td>\n",
              "      <td>0.0</td>\n",
              "      <td>0.0</td>\n",
              "      <td>0.0</td>\n",
              "      <td>0.0</td>\n",
              "      <td>0.0</td>\n",
              "      <td>0.0</td>\n",
              "      <td>0.0</td>\n",
              "      <td>0.0</td>\n",
              "      <td>0.0</td>\n",
              "      <td>0.0</td>\n",
              "      <td>0.0</td>\n",
              "      <td>0.0</td>\n",
              "      <td>0.0</td>\n",
              "      <td>0.0</td>\n",
              "      <td>0.0</td>\n",
              "    </tr>\n",
              "    <tr>\n",
              "      <th>3</th>\n",
              "      <td>0.00</td>\n",
              "      <td>0.0</td>\n",
              "      <td>0.0</td>\n",
              "      <td>0.0</td>\n",
              "      <td>0.0</td>\n",
              "      <td>1.0</td>\n",
              "      <td>0.0</td>\n",
              "      <td>0.0</td>\n",
              "      <td>0.0</td>\n",
              "      <td>0.0</td>\n",
              "      <td>0.0</td>\n",
              "      <td>0.0</td>\n",
              "      <td>0.0</td>\n",
              "      <td>1.0</td>\n",
              "      <td>0.0</td>\n",
              "      <td>0.0</td>\n",
              "      <td>0.0</td>\n",
              "      <td>0.0</td>\n",
              "      <td>0.0</td>\n",
              "      <td>0.0</td>\n",
              "      <td>0.0</td>\n",
              "      <td>0.0</td>\n",
              "      <td>1.0</td>\n",
              "      <td>0.0</td>\n",
              "      <td>0.0</td>\n",
              "      <td>0.0</td>\n",
              "      <td>0.0</td>\n",
              "      <td>0.0</td>\n",
              "      <td>0.0</td>\n",
              "      <td>0.0</td>\n",
              "      <td>0.0</td>\n",
              "      <td>0.0</td>\n",
              "      <td>0.0</td>\n",
              "      <td>0.0</td>\n",
              "      <td>0.0</td>\n",
              "      <td>0.0</td>\n",
              "      <td>0.0</td>\n",
              "      <td>0.0</td>\n",
              "      <td>0.0</td>\n",
              "      <td>0.0</td>\n",
              "      <td>0.0</td>\n",
              "      <td>0.0</td>\n",
              "      <td>0.0</td>\n",
              "      <td>0.0</td>\n",
              "      <td>0.0</td>\n",
              "      <td>0.0</td>\n",
              "      <td>0.0</td>\n",
              "      <td>0.0</td>\n",
              "      <td>0.0</td>\n",
              "      <td>0.0</td>\n",
              "      <td>0.0</td>\n",
              "      <td>0.0</td>\n",
              "      <td>0.0</td>\n",
              "    </tr>\n",
              "    <tr>\n",
              "      <th>4</th>\n",
              "      <td>0.00</td>\n",
              "      <td>0.0</td>\n",
              "      <td>0.0</td>\n",
              "      <td>0.0</td>\n",
              "      <td>0.0</td>\n",
              "      <td>1.0</td>\n",
              "      <td>0.0</td>\n",
              "      <td>0.0</td>\n",
              "      <td>0.0</td>\n",
              "      <td>0.0</td>\n",
              "      <td>0.0</td>\n",
              "      <td>0.0</td>\n",
              "      <td>0.0</td>\n",
              "      <td>1.0</td>\n",
              "      <td>0.0</td>\n",
              "      <td>0.0</td>\n",
              "      <td>0.0</td>\n",
              "      <td>0.0</td>\n",
              "      <td>0.0</td>\n",
              "      <td>0.0</td>\n",
              "      <td>0.0</td>\n",
              "      <td>0.0</td>\n",
              "      <td>1.0</td>\n",
              "      <td>0.0</td>\n",
              "      <td>0.0</td>\n",
              "      <td>0.0</td>\n",
              "      <td>0.0</td>\n",
              "      <td>0.0</td>\n",
              "      <td>0.0</td>\n",
              "      <td>0.0</td>\n",
              "      <td>0.0</td>\n",
              "      <td>0.0</td>\n",
              "      <td>0.0</td>\n",
              "      <td>0.0</td>\n",
              "      <td>0.0</td>\n",
              "      <td>0.0</td>\n",
              "      <td>0.0</td>\n",
              "      <td>0.0</td>\n",
              "      <td>0.0</td>\n",
              "      <td>0.0</td>\n",
              "      <td>0.0</td>\n",
              "      <td>0.0</td>\n",
              "      <td>0.0</td>\n",
              "      <td>0.0</td>\n",
              "      <td>0.0</td>\n",
              "      <td>0.0</td>\n",
              "      <td>0.0</td>\n",
              "      <td>0.0</td>\n",
              "      <td>0.0</td>\n",
              "      <td>0.0</td>\n",
              "      <td>0.0</td>\n",
              "      <td>0.0</td>\n",
              "      <td>0.0</td>\n",
              "    </tr>\n",
              "  </tbody>\n",
              "</table>\n",
              "</div>"
            ],
            "text/plain": [
              "   PrecipitationTotalInches  month0  month1  month2  ...  day27  day28  day29  day30\n",
              "0                      0.01     0.0     0.0     0.0  ...    0.0    0.0    0.0    1.0\n",
              "1                      0.99     0.0     0.0     0.0  ...    0.0    0.0    0.0    0.0\n",
              "2                      0.00     0.0     0.0     0.0  ...    0.0    0.0    0.0    0.0\n",
              "3                      0.00     0.0     0.0     0.0  ...    0.0    0.0    0.0    0.0\n",
              "4                      0.00     0.0     0.0     0.0  ...    0.0    0.0    0.0    0.0\n",
              "\n",
              "[5 rows x 53 columns]"
            ]
          },
          "metadata": {
            "tags": []
          },
          "execution_count": 94
        }
      ]
    },
    {
      "cell_type": "code",
      "metadata": {
        "id": "HTE1bxGKs7uj"
      },
      "source": [
        "from sklearn.model_selection import train_test_split\n",
        "\n",
        "X_train, X_test, y_train, y_test = train_test_split(X, y, test_size=0.33, random_state=42)"
      ],
      "execution_count": null,
      "outputs": []
    },
    {
      "cell_type": "code",
      "metadata": {
        "colab": {
          "base_uri": "https://localhost:8080/"
        },
        "id": "lOgcnRCos-z7",
        "outputId": "84e94771-ff46-4816-89e9-a35ea5ef6b34"
      },
      "source": [
        "model1 = CatBoostRegressor(iterations=200,\n",
        "                          learning_rate=1,\n",
        "                          depth=5)\n",
        "# Fit model\n",
        "model1.fit(X_train, y_train)\n",
        "# Get predictions\n",
        "preds = model1.predict(X_test)\n",
        "print(model1.score(X_test, y_test))"
      ],
      "execution_count": null,
      "outputs": [
        {
          "output_type": "stream",
          "text": [
            "0:\tlearn: 2576.8381593\ttotal: 8.09ms\tremaining: 1.61s\n",
            "1:\tlearn: 2525.2469158\ttotal: 15.4ms\tremaining: 1.52s\n",
            "2:\tlearn: 2500.5868558\ttotal: 22.1ms\tremaining: 1.45s\n",
            "3:\tlearn: 2482.8751606\ttotal: 28.8ms\tremaining: 1.41s\n",
            "4:\tlearn: 2469.7219050\ttotal: 35.8ms\tremaining: 1.4s\n",
            "5:\tlearn: 2461.2711457\ttotal: 48.3ms\tremaining: 1.56s\n",
            "6:\tlearn: 2456.8645811\ttotal: 60.1ms\tremaining: 1.66s\n",
            "7:\tlearn: 2445.7321433\ttotal: 67.3ms\tremaining: 1.61s\n",
            "8:\tlearn: 2437.9189997\ttotal: 74.1ms\tremaining: 1.57s\n",
            "9:\tlearn: 2434.0664866\ttotal: 80.9ms\tremaining: 1.54s\n",
            "10:\tlearn: 2431.5361794\ttotal: 87.7ms\tremaining: 1.51s\n",
            "11:\tlearn: 2427.4094307\ttotal: 94.3ms\tremaining: 1.48s\n",
            "12:\tlearn: 2420.9189260\ttotal: 101ms\tremaining: 1.46s\n",
            "13:\tlearn: 2417.2544856\ttotal: 114ms\tremaining: 1.52s\n",
            "14:\tlearn: 2413.7245271\ttotal: 122ms\tremaining: 1.5s\n",
            "15:\tlearn: 2408.4259619\ttotal: 129ms\tremaining: 1.49s\n",
            "16:\tlearn: 2404.2743771\ttotal: 137ms\tremaining: 1.47s\n",
            "17:\tlearn: 2399.9358572\ttotal: 144ms\tremaining: 1.46s\n",
            "18:\tlearn: 2398.2969188\ttotal: 151ms\tremaining: 1.44s\n",
            "19:\tlearn: 2395.9994810\ttotal: 158ms\tremaining: 1.43s\n",
            "20:\tlearn: 2393.2970340\ttotal: 166ms\tremaining: 1.41s\n",
            "21:\tlearn: 2390.8959446\ttotal: 172ms\tremaining: 1.39s\n",
            "22:\tlearn: 2386.3558574\ttotal: 181ms\tremaining: 1.39s\n",
            "23:\tlearn: 2382.3852993\ttotal: 194ms\tremaining: 1.42s\n",
            "24:\tlearn: 2379.2036643\ttotal: 201ms\tremaining: 1.41s\n",
            "25:\tlearn: 2377.1156019\ttotal: 217ms\tremaining: 1.45s\n",
            "26:\tlearn: 2375.7737284\ttotal: 225ms\tremaining: 1.44s\n",
            "27:\tlearn: 2372.9671928\ttotal: 232ms\tremaining: 1.42s\n",
            "28:\tlearn: 2370.6654671\ttotal: 239ms\tremaining: 1.41s\n",
            "29:\tlearn: 2366.3421503\ttotal: 246ms\tremaining: 1.39s\n",
            "30:\tlearn: 2364.9450475\ttotal: 253ms\tremaining: 1.38s\n",
            "31:\tlearn: 2363.5831215\ttotal: 260ms\tremaining: 1.36s\n",
            "32:\tlearn: 2361.3388078\ttotal: 268ms\tremaining: 1.35s\n",
            "33:\tlearn: 2359.2780761\ttotal: 276ms\tremaining: 1.34s\n",
            "34:\tlearn: 2357.1085259\ttotal: 282ms\tremaining: 1.33s\n",
            "35:\tlearn: 2355.6427987\ttotal: 289ms\tremaining: 1.32s\n",
            "36:\tlearn: 2353.7617890\ttotal: 296ms\tremaining: 1.3s\n",
            "37:\tlearn: 2349.9896907\ttotal: 302ms\tremaining: 1.29s\n",
            "38:\tlearn: 2347.8510564\ttotal: 310ms\tremaining: 1.28s\n",
            "39:\tlearn: 2346.9003260\ttotal: 316ms\tremaining: 1.26s\n",
            "40:\tlearn: 2344.9045800\ttotal: 323ms\tremaining: 1.25s\n",
            "41:\tlearn: 2343.1662423\ttotal: 330ms\tremaining: 1.24s\n",
            "42:\tlearn: 2342.1636203\ttotal: 336ms\tremaining: 1.23s\n",
            "43:\tlearn: 2341.1441869\ttotal: 343ms\tremaining: 1.22s\n",
            "44:\tlearn: 2339.3029186\ttotal: 350ms\tremaining: 1.2s\n",
            "45:\tlearn: 2338.3308032\ttotal: 356ms\tremaining: 1.19s\n",
            "46:\tlearn: 2337.5757369\ttotal: 363ms\tremaining: 1.18s\n",
            "47:\tlearn: 2335.7565944\ttotal: 369ms\tremaining: 1.17s\n",
            "48:\tlearn: 2334.5079254\ttotal: 376ms\tremaining: 1.16s\n",
            "49:\tlearn: 2331.9673013\ttotal: 383ms\tremaining: 1.15s\n",
            "50:\tlearn: 2329.2895653\ttotal: 389ms\tremaining: 1.14s\n",
            "51:\tlearn: 2328.3940273\ttotal: 396ms\tremaining: 1.13s\n",
            "52:\tlearn: 2326.5356741\ttotal: 403ms\tremaining: 1.12s\n",
            "53:\tlearn: 2324.8237531\ttotal: 415ms\tremaining: 1.12s\n",
            "54:\tlearn: 2323.1160407\ttotal: 426ms\tremaining: 1.12s\n",
            "55:\tlearn: 2321.5701116\ttotal: 438ms\tremaining: 1.13s\n",
            "56:\tlearn: 2320.2278577\ttotal: 445ms\tremaining: 1.11s\n",
            "57:\tlearn: 2319.1024725\ttotal: 451ms\tremaining: 1.1s\n",
            "58:\tlearn: 2318.0195757\ttotal: 458ms\tremaining: 1.09s\n",
            "59:\tlearn: 2316.1166493\ttotal: 466ms\tremaining: 1.09s\n",
            "60:\tlearn: 2315.3338379\ttotal: 478ms\tremaining: 1.09s\n",
            "61:\tlearn: 2314.4985851\ttotal: 486ms\tremaining: 1.08s\n",
            "62:\tlearn: 2313.4802170\ttotal: 493ms\tremaining: 1.07s\n",
            "63:\tlearn: 2311.0362864\ttotal: 500ms\tremaining: 1.06s\n",
            "64:\tlearn: 2309.7519134\ttotal: 507ms\tremaining: 1.05s\n",
            "65:\tlearn: 2308.8812658\ttotal: 515ms\tremaining: 1.04s\n",
            "66:\tlearn: 2307.6867970\ttotal: 529ms\tremaining: 1.05s\n",
            "67:\tlearn: 2306.0732021\ttotal: 536ms\tremaining: 1.04s\n",
            "68:\tlearn: 2305.0173797\ttotal: 542ms\tremaining: 1.03s\n",
            "69:\tlearn: 2304.0428216\ttotal: 549ms\tremaining: 1.02s\n",
            "70:\tlearn: 2302.8421225\ttotal: 556ms\tremaining: 1.01s\n",
            "71:\tlearn: 2302.1507770\ttotal: 563ms\tremaining: 1s\n",
            "72:\tlearn: 2300.7478934\ttotal: 571ms\tremaining: 993ms\n",
            "73:\tlearn: 2300.3884576\ttotal: 577ms\tremaining: 983ms\n",
            "74:\tlearn: 2299.7928618\ttotal: 586ms\tremaining: 976ms\n",
            "75:\tlearn: 2298.2712395\ttotal: 593ms\tremaining: 967ms\n",
            "76:\tlearn: 2297.1858650\ttotal: 600ms\tremaining: 959ms\n",
            "77:\tlearn: 2295.3521135\ttotal: 607ms\tremaining: 950ms\n",
            "78:\tlearn: 2294.3047312\ttotal: 619ms\tremaining: 948ms\n",
            "79:\tlearn: 2292.8417455\ttotal: 626ms\tremaining: 939ms\n",
            "80:\tlearn: 2291.9442165\ttotal: 633ms\tremaining: 930ms\n",
            "81:\tlearn: 2290.8194595\ttotal: 640ms\tremaining: 921ms\n",
            "82:\tlearn: 2289.9916313\ttotal: 647ms\tremaining: 912ms\n",
            "83:\tlearn: 2288.8550293\ttotal: 654ms\tremaining: 903ms\n",
            "84:\tlearn: 2288.0015450\ttotal: 660ms\tremaining: 893ms\n",
            "85:\tlearn: 2286.8016164\ttotal: 668ms\tremaining: 886ms\n",
            "86:\tlearn: 2285.6734221\ttotal: 678ms\tremaining: 880ms\n",
            "87:\tlearn: 2284.0678084\ttotal: 685ms\tremaining: 871ms\n",
            "88:\tlearn: 2282.9130585\ttotal: 691ms\tremaining: 862ms\n",
            "89:\tlearn: 2282.0456549\ttotal: 698ms\tremaining: 853ms\n",
            "90:\tlearn: 2281.1961017\ttotal: 705ms\tremaining: 844ms\n",
            "91:\tlearn: 2280.1547841\ttotal: 711ms\tremaining: 835ms\n",
            "92:\tlearn: 2278.9619729\ttotal: 718ms\tremaining: 826ms\n",
            "93:\tlearn: 2276.9781924\ttotal: 725ms\tremaining: 817ms\n",
            "94:\tlearn: 2275.5879546\ttotal: 732ms\tremaining: 809ms\n",
            "95:\tlearn: 2274.8974998\ttotal: 739ms\tremaining: 800ms\n",
            "96:\tlearn: 2273.2571377\ttotal: 745ms\tremaining: 791ms\n",
            "97:\tlearn: 2272.6119847\ttotal: 757ms\tremaining: 788ms\n",
            "98:\tlearn: 2271.3787750\ttotal: 764ms\tremaining: 779ms\n",
            "99:\tlearn: 2270.2140925\ttotal: 770ms\tremaining: 770ms\n",
            "100:\tlearn: 2268.5672663\ttotal: 777ms\tremaining: 761ms\n",
            "101:\tlearn: 2266.8640661\ttotal: 783ms\tremaining: 753ms\n",
            "102:\tlearn: 2265.3674879\ttotal: 790ms\tremaining: 744ms\n",
            "103:\tlearn: 2264.4981981\ttotal: 796ms\tremaining: 735ms\n",
            "104:\tlearn: 2263.8755083\ttotal: 805ms\tremaining: 728ms\n",
            "105:\tlearn: 2262.4357274\ttotal: 816ms\tremaining: 724ms\n",
            "106:\tlearn: 2261.0178822\ttotal: 823ms\tremaining: 715ms\n",
            "107:\tlearn: 2260.2775191\ttotal: 830ms\tremaining: 707ms\n",
            "108:\tlearn: 2259.3867657\ttotal: 836ms\tremaining: 698ms\n",
            "109:\tlearn: 2258.3178174\ttotal: 843ms\tremaining: 690ms\n",
            "110:\tlearn: 2257.6604128\ttotal: 849ms\tremaining: 681ms\n",
            "111:\tlearn: 2256.5014882\ttotal: 856ms\tremaining: 672ms\n",
            "112:\tlearn: 2256.0567025\ttotal: 862ms\tremaining: 664ms\n",
            "113:\tlearn: 2255.2498611\ttotal: 871ms\tremaining: 657ms\n",
            "114:\tlearn: 2253.6553465\ttotal: 879ms\tremaining: 650ms\n",
            "115:\tlearn: 2253.1103531\ttotal: 886ms\tremaining: 641ms\n",
            "116:\tlearn: 2251.2377394\ttotal: 893ms\tremaining: 633ms\n",
            "117:\tlearn: 2250.0600856\ttotal: 899ms\tremaining: 625ms\n",
            "118:\tlearn: 2249.4442623\ttotal: 906ms\tremaining: 617ms\n",
            "119:\tlearn: 2248.6086998\ttotal: 913ms\tremaining: 609ms\n",
            "120:\tlearn: 2248.0833140\ttotal: 920ms\tremaining: 600ms\n",
            "121:\tlearn: 2247.0495353\ttotal: 927ms\tremaining: 592ms\n",
            "122:\tlearn: 2246.6224075\ttotal: 933ms\tremaining: 584ms\n",
            "123:\tlearn: 2245.4901732\ttotal: 940ms\tremaining: 576ms\n",
            "124:\tlearn: 2244.9335802\ttotal: 946ms\tremaining: 568ms\n",
            "125:\tlearn: 2244.3024527\ttotal: 953ms\tremaining: 560ms\n",
            "126:\tlearn: 2242.9265463\ttotal: 960ms\tremaining: 552ms\n",
            "127:\tlearn: 2241.7964530\ttotal: 966ms\tremaining: 544ms\n",
            "128:\tlearn: 2240.8889444\ttotal: 973ms\tremaining: 536ms\n",
            "129:\tlearn: 2239.1563217\ttotal: 980ms\tremaining: 528ms\n",
            "130:\tlearn: 2238.0669548\ttotal: 986ms\tremaining: 519ms\n",
            "131:\tlearn: 2237.9281263\ttotal: 992ms\tremaining: 511ms\n",
            "132:\tlearn: 2236.8808749\ttotal: 1s\tremaining: 505ms\n",
            "133:\tlearn: 2236.0166901\ttotal: 1.01s\tremaining: 500ms\n",
            "134:\tlearn: 2235.2078454\ttotal: 1.03s\tremaining: 496ms\n",
            "135:\tlearn: 2234.3424473\ttotal: 1.04s\tremaining: 488ms\n",
            "136:\tlearn: 2233.3110823\ttotal: 1.04s\tremaining: 480ms\n",
            "137:\tlearn: 2232.2400685\ttotal: 1.05s\tremaining: 472ms\n",
            "138:\tlearn: 2231.7506538\ttotal: 1.06s\tremaining: 464ms\n",
            "139:\tlearn: 2231.2474531\ttotal: 1.06s\tremaining: 456ms\n",
            "140:\tlearn: 2230.3120287\ttotal: 1.07s\tremaining: 449ms\n",
            "141:\tlearn: 2230.0566440\ttotal: 1.08s\tremaining: 442ms\n",
            "142:\tlearn: 2228.5932010\ttotal: 1.09s\tremaining: 434ms\n",
            "143:\tlearn: 2227.5654593\ttotal: 1.09s\tremaining: 426ms\n",
            "144:\tlearn: 2227.3306499\ttotal: 1.1s\tremaining: 418ms\n",
            "145:\tlearn: 2226.9279889\ttotal: 1.11s\tremaining: 410ms\n",
            "146:\tlearn: 2225.8433999\ttotal: 1.11s\tremaining: 402ms\n",
            "147:\tlearn: 2225.3774641\ttotal: 1.12s\tremaining: 394ms\n",
            "148:\tlearn: 2223.8099049\ttotal: 1.13s\tremaining: 386ms\n",
            "149:\tlearn: 2223.6370455\ttotal: 1.13s\tremaining: 378ms\n",
            "150:\tlearn: 2222.8062992\ttotal: 1.14s\tremaining: 370ms\n",
            "151:\tlearn: 2221.4419255\ttotal: 1.15s\tremaining: 362ms\n",
            "152:\tlearn: 2220.7865456\ttotal: 1.15s\tremaining: 355ms\n",
            "153:\tlearn: 2220.1059010\ttotal: 1.16s\tremaining: 347ms\n",
            "154:\tlearn: 2219.8836351\ttotal: 1.17s\tremaining: 339ms\n",
            "155:\tlearn: 2218.7262584\ttotal: 1.17s\tremaining: 331ms\n",
            "156:\tlearn: 2217.1968640\ttotal: 1.18s\tremaining: 324ms\n",
            "157:\tlearn: 2216.4792831\ttotal: 1.19s\tremaining: 316ms\n",
            "158:\tlearn: 2216.2564926\ttotal: 1.19s\tremaining: 308ms\n",
            "159:\tlearn: 2215.8941089\ttotal: 1.21s\tremaining: 302ms\n",
            "160:\tlearn: 2215.4153893\ttotal: 1.21s\tremaining: 294ms\n",
            "161:\tlearn: 2215.0338723\ttotal: 1.22s\tremaining: 286ms\n",
            "162:\tlearn: 2214.2754686\ttotal: 1.23s\tremaining: 279ms\n",
            "163:\tlearn: 2213.5525670\ttotal: 1.23s\tremaining: 271ms\n",
            "164:\tlearn: 2213.0188328\ttotal: 1.24s\tremaining: 263ms\n",
            "165:\tlearn: 2212.1767470\ttotal: 1.25s\tremaining: 256ms\n",
            "166:\tlearn: 2211.2117307\ttotal: 1.25s\tremaining: 248ms\n",
            "167:\tlearn: 2210.9528951\ttotal: 1.26s\tremaining: 240ms\n",
            "168:\tlearn: 2209.8693175\ttotal: 1.27s\tremaining: 233ms\n",
            "169:\tlearn: 2209.0521478\ttotal: 1.28s\tremaining: 225ms\n",
            "170:\tlearn: 2208.1309203\ttotal: 1.28s\tremaining: 218ms\n",
            "171:\tlearn: 2207.4545656\ttotal: 1.29s\tremaining: 210ms\n",
            "172:\tlearn: 2206.7666951\ttotal: 1.3s\tremaining: 202ms\n",
            "173:\tlearn: 2206.1138238\ttotal: 1.3s\tremaining: 195ms\n",
            "174:\tlearn: 2205.0588763\ttotal: 1.31s\tremaining: 188ms\n",
            "175:\tlearn: 2204.5103905\ttotal: 1.32s\tremaining: 181ms\n",
            "176:\tlearn: 2203.7035491\ttotal: 1.33s\tremaining: 173ms\n",
            "177:\tlearn: 2203.1028571\ttotal: 1.34s\tremaining: 165ms\n",
            "178:\tlearn: 2202.3503911\ttotal: 1.34s\tremaining: 158ms\n",
            "179:\tlearn: 2201.8054509\ttotal: 1.35s\tremaining: 150ms\n",
            "180:\tlearn: 2201.3602247\ttotal: 1.36s\tremaining: 143ms\n",
            "181:\tlearn: 2200.7954021\ttotal: 1.37s\tremaining: 136ms\n",
            "182:\tlearn: 2199.6932081\ttotal: 1.38s\tremaining: 128ms\n",
            "183:\tlearn: 2199.0845459\ttotal: 1.38s\tremaining: 120ms\n",
            "184:\tlearn: 2197.8873554\ttotal: 1.39s\tremaining: 113ms\n",
            "185:\tlearn: 2197.1919753\ttotal: 1.4s\tremaining: 105ms\n",
            "186:\tlearn: 2196.9588893\ttotal: 1.41s\tremaining: 97.8ms\n",
            "187:\tlearn: 2196.1326119\ttotal: 1.41s\tremaining: 90.2ms\n",
            "188:\tlearn: 2195.2068485\ttotal: 1.42s\tremaining: 82.7ms\n",
            "189:\tlearn: 2194.9680015\ttotal: 1.43s\tremaining: 75.1ms\n",
            "190:\tlearn: 2194.8404217\ttotal: 1.43s\tremaining: 67.5ms\n",
            "191:\tlearn: 2194.1298963\ttotal: 1.44s\tremaining: 60ms\n",
            "192:\tlearn: 2193.6913754\ttotal: 1.45s\tremaining: 52.6ms\n",
            "193:\tlearn: 2192.8013657\ttotal: 1.46s\tremaining: 45.2ms\n",
            "194:\tlearn: 2192.3985379\ttotal: 1.47s\tremaining: 37.6ms\n",
            "195:\tlearn: 2191.7376143\ttotal: 1.48s\tremaining: 30.2ms\n",
            "196:\tlearn: 2191.3516152\ttotal: 1.49s\tremaining: 22.7ms\n",
            "197:\tlearn: 2191.1395662\ttotal: 1.5s\tremaining: 15.1ms\n",
            "198:\tlearn: 2190.6409028\ttotal: 1.5s\tremaining: 7.55ms\n",
            "199:\tlearn: 2190.0845582\ttotal: 1.51s\tremaining: 0us\n",
            "0.46252931748267434\n"
          ],
          "name": "stdout"
        }
      ]
    },
    {
      "cell_type": "code",
      "metadata": {
        "colab": {
          "base_uri": "https://localhost:8080/"
        },
        "id": "QDBIdrtgtHYE",
        "outputId": "49bbe812-9712-423f-fd59-9125ab8c818d"
      },
      "source": [
        "preds[314]"
      ],
      "execution_count": null,
      "outputs": [
        {
          "output_type": "execute_result",
          "data": {
            "text/plain": [
              "13228.475277279735"
            ]
          },
          "metadata": {
            "tags": []
          },
          "execution_count": 97
        }
      ]
    },
    {
      "cell_type": "code",
      "metadata": {
        "id": "ZRT1T9MjtNkT"
      },
      "source": [
        "from sklearn.ensemble import RandomForestRegressor\n",
        "from sklearn.datasets import make_regression\n",
        "\n",
        "regr1 = RandomForestRegressor(max_depth=20, random_state=42, n_estimators=110)\n",
        "regr1.fit(X_train, y_train)\n",
        "\n",
        "y_pred = regr1.predict(X_test)"
      ],
      "execution_count": null,
      "outputs": []
    },
    {
      "cell_type": "code",
      "metadata": {
        "colab": {
          "base_uri": "https://localhost:8080/"
        },
        "id": "GZYwIqwctgIj",
        "outputId": "c77207fc-6fab-4126-db3a-a644960fe19f"
      },
      "source": [
        "regr1.score(X_test, y_test)"
      ],
      "execution_count": null,
      "outputs": [
        {
          "output_type": "execute_result",
          "data": {
            "text/plain": [
              "0.4792853407145462"
            ]
          },
          "metadata": {
            "tags": []
          },
          "execution_count": 99
        }
      ]
    },
    {
      "cell_type": "code",
      "metadata": {
        "colab": {
          "base_uri": "https://localhost:8080/"
        },
        "id": "5uVcNLM6tqUr",
        "outputId": "7ea3a589-40ac-4b56-e671-d63f63c4d98d"
      },
      "source": [
        "y_pred[314]"
      ],
      "execution_count": null,
      "outputs": [
        {
          "output_type": "execute_result",
          "data": {
            "text/plain": [
              "13158.036661342832"
            ]
          },
          "metadata": {
            "tags": []
          },
          "execution_count": 100
        }
      ]
    },
    {
      "cell_type": "code",
      "metadata": {
        "id": "1jhMjEQOtr2b"
      },
      "source": [
        "import lightgbm as lgb\n",
        "gbm1 = lgb.LGBMRegressor(num_leaves = 20, max_depth=5)\n",
        "gbm1.fit(X_train, y_train)\n",
        "\n",
        "y_pred = gbm1.predict(X_test)"
      ],
      "execution_count": null,
      "outputs": []
    },
    {
      "cell_type": "code",
      "metadata": {
        "colab": {
          "base_uri": "https://localhost:8080/"
        },
        "id": "CbhA0_2yt4H6",
        "outputId": "5c70fc93-067b-4e24-e4e3-50c7e8764720"
      },
      "source": [
        "gbm1.score(X_test, y_test)"
      ],
      "execution_count": null,
      "outputs": [
        {
          "output_type": "execute_result",
          "data": {
            "text/plain": [
              "0.4212775809759728"
            ]
          },
          "metadata": {
            "tags": []
          },
          "execution_count": 102
        }
      ]
    },
    {
      "cell_type": "code",
      "metadata": {
        "id": "solTs6SSt9Vb",
        "colab": {
          "base_uri": "https://localhost:8080/"
        },
        "outputId": "a017068a-5368-46f8-8b64-7bd28fa3e3e0"
      },
      "source": [
        "y_pred[314]"
      ],
      "execution_count": null,
      "outputs": [
        {
          "output_type": "execute_result",
          "data": {
            "text/plain": [
              "13557.340146190167"
            ]
          },
          "metadata": {
            "tags": []
          },
          "execution_count": 103
        }
      ]
    },
    {
      "cell_type": "code",
      "metadata": {
        "id": "Q8oaotRSuAEB"
      },
      "source": [
        ""
      ],
      "execution_count": null,
      "outputs": []
    }
  ]
}
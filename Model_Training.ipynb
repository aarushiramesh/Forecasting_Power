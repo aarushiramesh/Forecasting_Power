{
  "nbformat": 4,
  "nbformat_minor": 0,
  "metadata": {
    "colab": {
      "name": "Model_Training.ipynb",
      "provenance": [],
      "collapsed_sections": [],
      "authorship_tag": "ABX9TyOHTYji/1V0pf2+lIByr4Uh",
      "include_colab_link": true
    },
    "kernelspec": {
      "name": "python3",
      "display_name": "Python 3"
    },
    "language_info": {
      "name": "python"
    }
  },
  "cells": [
    {
      "cell_type": "markdown",
      "metadata": {
        "id": "view-in-github",
        "colab_type": "text"
      },
      "source": [
        "<a href=\"https://colab.research.google.com/github/aarushiramesh/Forecasting_Power/blob/main/Model_Training.ipynb\" target=\"_parent\"><img src=\"https://colab.research.google.com/assets/colab-badge.svg\" alt=\"Open In Colab\"/></a>"
      ]
    },
    {
      "cell_type": "markdown",
      "metadata": {
        "id": "uiOqA9f474eU"
      },
      "source": [
        "# **Model Training: Forecasting Electricity Demand**"
      ]
    },
    {
      "cell_type": "markdown",
      "metadata": {
        "id": "kvkZkZa68BFM"
      },
      "source": [
        "* df_new is the dataset from South Central (with Austin weather data)\n",
        "* df_new1 is the dataset from North Central (with Dallas weather data)\n",
        "* df_new2 is the dataset from Coastal region (with Houston weather data)."
      ]
    },
    {
      "cell_type": "code",
      "metadata": {
        "colab": {
          "base_uri": "https://localhost:8080/"
        },
        "id": "6MjdIpsrUiI0",
        "outputId": "b7772b57-6f5f-47a9-a894-cc5ea6b2b6f1"
      },
      "source": [
        "cd '/content/drive/Shareddrives/Data Science Project/data'"
      ],
      "execution_count": 409,
      "outputs": [
        {
          "output_type": "stream",
          "text": [
            "/content/drive/Shareddrives/Data Science Project/data\n"
          ],
          "name": "stdout"
        }
      ]
    },
    {
      "cell_type": "code",
      "metadata": {
        "colab": {
          "base_uri": "https://localhost:8080/"
        },
        "id": "QJpUq2AmVZl0",
        "outputId": "b9f650f5-0dc5-451f-87f1-e25e1168299b"
      },
      "source": [
        "from google.colab import drive\n",
        "drive.mount('/content/drive')"
      ],
      "execution_count": 2,
      "outputs": [
        {
          "output_type": "stream",
          "text": [
            "Mounted at /content/drive\n"
          ],
          "name": "stdout"
        }
      ]
    },
    {
      "cell_type": "code",
      "metadata": {
        "colab": {
          "base_uri": "https://localhost:8080/"
        },
        "id": "N3Az1i56Vile",
        "outputId": "9eb27910-6d9d-4ce4-fce9-f4956a6b0845"
      },
      "source": [
        "%ls"
      ],
      "execution_count": 3,
      "outputs": [
        {
          "output_type": "stream",
          "text": [
            "\u001b[0m\u001b[01;34mdrive\u001b[0m/  \u001b[01;34msample_data\u001b[0m/\n"
          ],
          "name": "stdout"
        }
      ]
    },
    {
      "cell_type": "code",
      "metadata": {
        "id": "CUj3t0c8Vnjz"
      },
      "source": [
        "import pandas as pd\n",
        "import seaborn as sn\n",
        "import matplotlib.pyplot as plt\n",
        "import numpy as np\n",
        "from sklearn import linear_model"
      ],
      "execution_count": 4,
      "outputs": []
    },
    {
      "cell_type": "markdown",
      "metadata": {
        "id": "n0XY38Nu8Ua1"
      },
      "source": [
        "## **South Central/Austin Region**"
      ]
    },
    {
      "cell_type": "code",
      "metadata": {
        "id": "0IejYCeMVqsp"
      },
      "source": [
        "df = pd.read_csv('df.csv')"
      ],
      "execution_count": 410,
      "outputs": []
    },
    {
      "cell_type": "code",
      "metadata": {
        "id": "vgf_ZzrPVtnv"
      },
      "source": [
        "df"
      ],
      "execution_count": null,
      "outputs": []
    },
    {
      "cell_type": "code",
      "metadata": {
        "id": "NHyLghmPR_Iu"
      },
      "source": [
        "df = df[['Date', 'TempAvgF', 'WindAvgMPH', 'PrecipiationTotalInches', 'Year', 'Month', 'Day', 'Population', 'SCENT']]"
      ],
      "execution_count": 412,
      "outputs": []
    },
    {
      "cell_type": "code",
      "metadata": {
        "id": "ctF9sybfSKVv"
      },
      "source": [
        "df = df.rename(columns={'SCENT': 'SCENTTotalElectricityinMWPH'})"
      ],
      "execution_count": 413,
      "outputs": []
    },
    {
      "cell_type": "code",
      "metadata": {
        "id": "PX1p_lcAVumr"
      },
      "source": [
        "df = df.drop(columns=['Date'])"
      ],
      "execution_count": 414,
      "outputs": []
    },
    {
      "cell_type": "code",
      "metadata": {
        "id": "pc9n-WKDVzh2"
      },
      "source": [
        "df"
      ],
      "execution_count": null,
      "outputs": []
    },
    {
      "cell_type": "code",
      "metadata": {
        "id": "ozjEv1KAV6kt"
      },
      "source": [
        "df = df[['Year', 'Month', 'Day', 'TempAvgF', 'WindAvgMPH', 'PrecipiationTotalInches', 'Population', 'SCENTTotalElectricityinMWPH']]"
      ],
      "execution_count": 417,
      "outputs": []
    },
    {
      "cell_type": "code",
      "metadata": {
        "id": "_H8KAQJEV9vi"
      },
      "source": [
        "df"
      ],
      "execution_count": null,
      "outputs": []
    },
    {
      "cell_type": "code",
      "metadata": {
        "colab": {
          "base_uri": "https://localhost:8080/",
          "height": 423
        },
        "id": "x1qsSFJllkhz",
        "outputId": "f49993c5-01b6-4cfb-c460-a393390d0e35"
      },
      "source": [
        "sn.heatmap(df.corr(), annot=True)"
      ],
      "execution_count": 419,
      "outputs": [
        {
          "output_type": "execute_result",
          "data": {
            "text/plain": [
              "<matplotlib.axes._subplots.AxesSubplot at 0x7fbb753f46d0>"
            ]
          },
          "metadata": {
            "tags": []
          },
          "execution_count": 419
        },
        {
          "output_type": "display_data",
          "data": {
            "image/png": "[encoded data removed]",
            "text/plain": [
              "<Figure size 432x288 with 2 Axes>"
            ]
          },
          "metadata": {
            "tags": [],
            "needs_background": "light"
          }
        }
      ]
    },
    {
      "cell_type": "markdown",
      "metadata": {
        "id": "eiiqmfHv8bZL"
      },
      "source": [
        "## **North Central/Dallas Region**"
      ]
    },
    {
      "cell_type": "code",
      "metadata": {
        "colab": {
          "base_uri": "https://localhost:8080/"
        },
        "id": "8r50-Sky8gfA",
        "outputId": "3dbc222b-b406-443e-8c69-f232aed0fb95"
      },
      "source": [
        "cd '/content/drive/Shareddrives/Data Science Project/data'"
      ],
      "execution_count": 444,
      "outputs": [
        {
          "output_type": "stream",
          "text": [
            "/content/drive/Shareddrives/Data Science Project/data\n"
          ],
          "name": "stdout"
        }
      ]
    },
    {
      "cell_type": "code",
      "metadata": {
        "colab": {
          "base_uri": "https://localhost:8080/"
        },
        "id": "QviiV2t88kAY",
        "outputId": "6ad8bc1e-075d-4242-9089-16a796eaa81c"
      },
      "source": [
        "cd 'dallas_weather'"
      ],
      "execution_count": 421,
      "outputs": [
        {
          "output_type": "stream",
          "text": [
            "/content/drive/Shareddrives/Data Science Project/data/dallas_weather\n"
          ],
          "name": "stdout"
        }
      ]
    },
    {
      "cell_type": "code",
      "metadata": {
        "colab": {
          "base_uri": "https://localhost:8080/"
        },
        "id": "qjxDr9Sj8n_j",
        "outputId": "ab9bf573-1759-420a-c6db-b9fee05ea099"
      },
      "source": [
        "ls"
      ],
      "execution_count": 422,
      "outputs": [
        {
          "output_type": "stream",
          "text": [
            "dallas_weather_2000tomarch2021.csv  dallas_weather_april2021.csv\n"
          ],
          "name": "stdout"
        }
      ]
    },
    {
      "cell_type": "code",
      "metadata": {
        "id": "2tM1107-8qiu"
      },
      "source": [
        "dallas_weather = pd.read_csv('dallas_weather_2000tomarch2021.csv')"
      ],
      "execution_count": 423,
      "outputs": []
    },
    {
      "cell_type": "code",
      "metadata": {
        "id": "Jz-eAFIw9fuC"
      },
      "source": [
        "prcp = dallas_weather['PRCP']"
      ],
      "execution_count": 433,
      "outputs": []
    },
    {
      "cell_type": "code",
      "metadata": {
        "id": "BR9AlfL_-dzY"
      },
      "source": [
        "df_dallas = pd.read_csv('ercot_combined.csv')"
      ],
      "execution_count": 429,
      "outputs": []
    },
    {
      "cell_type": "code",
      "metadata": {
        "id": "ojgzSWPG-mvj"
      },
      "source": [
        "df_dallas = df_dallas[['Year', 'Month', 'Day', 'NCENT']]"
      ],
      "execution_count": 430,
      "outputs": []
    },
    {
      "cell_type": "code",
      "metadata": {
        "id": "8E-mhV8C_Dc7"
      },
      "source": [
        "df_dallas = df_dallas[0:75465]"
      ],
      "execution_count": 431,
      "outputs": []
    },
    {
      "cell_type": "code",
      "metadata": {
        "id": "WhqeKCfT_3e2"
      },
      "source": [
        "df_dallas['PrecipitationTotalInches'] = prcp"
      ],
      "execution_count": 434,
      "outputs": []
    },
    {
      "cell_type": "code",
      "metadata": {
        "id": "zLa1OBVn_8zZ"
      },
      "source": [
        "df_dallas = df_dallas[['Year', 'Month', 'Day', 'PrecipitationTotalInches', 'NCENT']]"
      ],
      "execution_count": 436,
      "outputs": []
    },
    {
      "cell_type": "code",
      "metadata": {
        "id": "XR5KFny1AKYA"
      },
      "source": [
        "df_new1 = df_dallas"
      ],
      "execution_count": 437,
      "outputs": []
    },
    {
      "cell_type": "code",
      "metadata": {
        "id": "5OPAz3GBAid3"
      },
      "source": [
        "df_new1 = df_new1.fillna(0)"
      ],
      "execution_count": 438,
      "outputs": []
    },
    {
      "cell_type": "code",
      "metadata": {
        "id": "QW3Eq2_oMlLa"
      },
      "source": [
        "df_new1.to_csv('dallas_dataframe.csv')"
      ],
      "execution_count": 439,
      "outputs": []
    },
    {
      "cell_type": "code",
      "metadata": {
        "colab": {
          "base_uri": "https://localhost:8080/"
        },
        "id": "rsTQ9KS4Mutk",
        "outputId": "d0ceac32-1228-46e9-d612-8a8d1a2401d4"
      },
      "source": [
        "ls"
      ],
      "execution_count": 440,
      "outputs": [
        {
          "output_type": "stream",
          "text": [
            " \u001b[0m\u001b[01;34maustin_weather\u001b[0m/                        \u001b[01;34mercot_hourly\u001b[0m/\n",
            " AustinWeather_1Jan2010_30Apr2021.csv   \u001b[01;34mhouston_weather\u001b[0m/\n",
            " Austin_Weather.csv                     \u001b[01;34mlubbock_weather\u001b[0m/\n",
            " \u001b[01;34mcollegestation_weather\u001b[0m/                manual_pop.csv\n",
            " \u001b[01;34mcost\u001b[0m/                                  merge_all_data.ipynb\n",
            " cost_features_cleaned.csv              pop_features_cleaned.csv\n",
            " dallas_dataframe.csv                   \u001b[01;34mpopulation\u001b[0m/\n",
            " \u001b[01;34mdallas_weather\u001b[0m/                        Regressor.ipynb\n",
            " df.csv                                 Weather_Austin_info.ipynb\n",
            " df.gsheet                              Weather_Data_Austin_temp.ipynb\n",
            " ercot_combined.csv                    \u001b[01;34m'WeatherData (non-updated)'\u001b[0m/\n"
          ],
          "name": "stdout"
        }
      ]
    },
    {
      "cell_type": "markdown",
      "metadata": {
        "id": "thC0nDNhDVBV"
      },
      "source": [
        "## **Coastal Region, Houston data**"
      ]
    },
    {
      "cell_type": "code",
      "metadata": {
        "colab": {
          "base_uri": "https://localhost:8080/"
        },
        "id": "0uCgMGM2DZzr",
        "outputId": "ccb8df9b-f07d-46e4-bf23-824df0a2551e"
      },
      "source": [
        "cd '/content/drive/Shareddrives/Data Science Project/data'"
      ],
      "execution_count": 441,
      "outputs": [
        {
          "output_type": "stream",
          "text": [
            "/content/drive/Shareddrives/Data Science Project/data\n"
          ],
          "name": "stdout"
        }
      ]
    },
    {
      "cell_type": "code",
      "metadata": {
        "colab": {
          "base_uri": "https://localhost:8080/"
        },
        "id": "FKG0oL71DcHe",
        "outputId": "5b82565b-c6f2-414b-8a9d-c7b23863c1c0"
      },
      "source": [
        "ls"
      ],
      "execution_count": 272,
      "outputs": [
        {
          "output_type": "stream",
          "text": [
            " \u001b[0m\u001b[01;34maustin_weather\u001b[0m/                        \u001b[01;34mhouston_weather\u001b[0m/\n",
            " AustinWeather_1Jan2010_30Apr2021.csv   \u001b[01;34mlubbock_weather\u001b[0m/\n",
            " Austin_Weather.csv                     manual_pop.csv\n",
            " \u001b[01;34mcollegestation_weather\u001b[0m/                merge_all_data.ipynb\n",
            " \u001b[01;34mcost\u001b[0m/                                  pop_features_cleaned.csv\n",
            " cost_features_cleaned.csv              \u001b[01;34mpopulation\u001b[0m/\n",
            " \u001b[01;34mdallas_weather\u001b[0m/                        Regressor.ipynb\n",
            " df.csv                                 Weather_Austin_info.ipynb\n",
            " df.gsheet                              Weather_Data_Austin_temp.ipynb\n",
            " ercot_combined.csv                    \u001b[01;34m'WeatherData (non-updated)'\u001b[0m/\n",
            " \u001b[01;34mercot_hourly\u001b[0m/\n"
          ],
          "name": "stdout"
        }
      ]
    },
    {
      "cell_type": "code",
      "metadata": {
        "colab": {
          "base_uri": "https://localhost:8080/"
        },
        "id": "42_B8Q1DDegR",
        "outputId": "ef1fae18-56d4-4cb7-de65-9d06c141f4ab"
      },
      "source": [
        "cd 'houston_weather/'"
      ],
      "execution_count": 442,
      "outputs": [
        {
          "output_type": "stream",
          "text": [
            "/content/drive/Shareddrives/Data Science Project/data/houston_weather\n"
          ],
          "name": "stdout"
        }
      ]
    },
    {
      "cell_type": "code",
      "metadata": {
        "id": "zejmJi_uDh3W"
      },
      "source": [
        "df_ercot = pd.read_csv('ercot_combined.csv')"
      ],
      "execution_count": 445,
      "outputs": []
    },
    {
      "cell_type": "code",
      "metadata": {
        "colab": {
          "base_uri": "https://localhost:8080/",
          "height": 419
        },
        "id": "fV1jBMw1D9I0",
        "outputId": "adf32393-3eb9-42fb-b5a3-e3dec68d2ad2"
      },
      "source": [
        "df_ercot"
      ],
      "execution_count": 306,
      "outputs": [
        {
          "output_type": "execute_result",
          "data": {
            "text/html": [
              "<div>\n",
              "<style scoped>\n",
              "    .dataframe tbody tr th:only-of-type {\n",
              "        vertical-align: middle;\n",
              "    }\n",
              "\n",
              "    .dataframe tbody tr th {\n",
              "        vertical-align: top;\n",
              "    }\n",
              "\n",
              "    .dataframe thead th {\n",
              "        text-align: right;\n",
              "    }\n",
              "</style>\n",
              "<table border=\"1\" class=\"dataframe\">\n",
              "  <thead>\n",
              "    <tr style=\"text-align: right;\">\n",
              "      <th></th>\n",
              "      <th>Unnamed: 0</th>\n",
              "      <th>Year</th>\n",
              "      <th>Month</th>\n",
              "      <th>Day</th>\n",
              "      <th>Time</th>\n",
              "      <th>Date</th>\n",
              "      <th>COAST</th>\n",
              "      <th>EAST</th>\n",
              "      <th>FWEST</th>\n",
              "      <th>NORTH</th>\n",
              "      <th>NCENT</th>\n",
              "      <th>SOUTH</th>\n",
              "      <th>SCENT</th>\n",
              "      <th>WEST</th>\n",
              "      <th>ERCOT</th>\n",
              "    </tr>\n",
              "  </thead>\n",
              "  <tbody>\n",
              "    <tr>\n",
              "      <th>0</th>\n",
              "      <td>8735</td>\n",
              "      <td>2002</td>\n",
              "      <td>12</td>\n",
              "      <td>31</td>\n",
              "      <td>00:00:00</td>\n",
              "      <td>12/31/2002</td>\n",
              "      <td>7465.108600</td>\n",
              "      <td>934.337680</td>\n",
              "      <td>1023.925140</td>\n",
              "      <td>834.789600</td>\n",
              "      <td>7311.082400</td>\n",
              "      <td>1905.105800</td>\n",
              "      <td>3744.193820</td>\n",
              "      <td>726.417570</td>\n",
              "      <td>23944.960610</td>\n",
              "    </tr>\n",
              "    <tr>\n",
              "      <th>1</th>\n",
              "      <td>2886</td>\n",
              "      <td>2002</td>\n",
              "      <td>5</td>\n",
              "      <td>1</td>\n",
              "      <td>07:59:59.997000</td>\n",
              "      <td>05/01/2002</td>\n",
              "      <td>9292.072328</td>\n",
              "      <td>1284.066414</td>\n",
              "      <td>1120.529817</td>\n",
              "      <td>1019.822219</td>\n",
              "      <td>11639.263205</td>\n",
              "      <td>2366.664224</td>\n",
              "      <td>5161.428563</td>\n",
              "      <td>831.237731</td>\n",
              "      <td>32715.084501</td>\n",
              "    </tr>\n",
              "    <tr>\n",
              "      <th>2</th>\n",
              "      <td>2887</td>\n",
              "      <td>2002</td>\n",
              "      <td>5</td>\n",
              "      <td>1</td>\n",
              "      <td>09:00:00</td>\n",
              "      <td>05/01/2002</td>\n",
              "      <td>9379.199031</td>\n",
              "      <td>1322.707228</td>\n",
              "      <td>1169.862610</td>\n",
              "      <td>1060.145416</td>\n",
              "      <td>12100.144180</td>\n",
              "      <td>2448.898405</td>\n",
              "      <td>5219.559143</td>\n",
              "      <td>872.733475</td>\n",
              "      <td>33573.249488</td>\n",
              "    </tr>\n",
              "    <tr>\n",
              "      <th>3</th>\n",
              "      <td>2888</td>\n",
              "      <td>2002</td>\n",
              "      <td>5</td>\n",
              "      <td>1</td>\n",
              "      <td>10:00:00.003000</td>\n",
              "      <td>05/01/2002</td>\n",
              "      <td>9835.573198</td>\n",
              "      <td>1387.184064</td>\n",
              "      <td>1228.546453</td>\n",
              "      <td>1128.049654</td>\n",
              "      <td>12849.761626</td>\n",
              "      <td>2565.037919</td>\n",
              "      <td>5529.945543</td>\n",
              "      <td>937.479422</td>\n",
              "      <td>35461.577880</td>\n",
              "    </tr>\n",
              "    <tr>\n",
              "      <th>4</th>\n",
              "      <td>2889</td>\n",
              "      <td>2002</td>\n",
              "      <td>5</td>\n",
              "      <td>1</td>\n",
              "      <td>10:59:59.997000</td>\n",
              "      <td>05/01/2002</td>\n",
              "      <td>10456.739916</td>\n",
              "      <td>1478.026056</td>\n",
              "      <td>1282.154211</td>\n",
              "      <td>1210.093869</td>\n",
              "      <td>13855.505612</td>\n",
              "      <td>2706.770506</td>\n",
              "      <td>5880.871126</td>\n",
              "      <td>1003.004371</td>\n",
              "      <td>37873.165666</td>\n",
              "    </tr>\n",
              "    <tr>\n",
              "      <th>...</th>\n",
              "      <td>...</td>\n",
              "      <td>...</td>\n",
              "      <td>...</td>\n",
              "      <td>...</td>\n",
              "      <td>...</td>\n",
              "      <td>...</td>\n",
              "      <td>...</td>\n",
              "      <td>...</td>\n",
              "      <td>...</td>\n",
              "      <td>...</td>\n",
              "      <td>...</td>\n",
              "      <td>...</td>\n",
              "      <td>...</td>\n",
              "      <td>...</td>\n",
              "      <td>...</td>\n",
              "    </tr>\n",
              "    <tr>\n",
              "      <th>168714</th>\n",
              "      <td>1442</td>\n",
              "      <td>2021</td>\n",
              "      <td>3</td>\n",
              "      <td>2</td>\n",
              "      <td>03:00</td>\n",
              "      <td>03/02/2021</td>\n",
              "      <td>8660.283443</td>\n",
              "      <td>1342.191539</td>\n",
              "      <td>3570.271491</td>\n",
              "      <td>709.512667</td>\n",
              "      <td>10682.733963</td>\n",
              "      <td>2502.029526</td>\n",
              "      <td>5565.379531</td>\n",
              "      <td>1176.590418</td>\n",
              "      <td>34208.992577</td>\n",
              "    </tr>\n",
              "    <tr>\n",
              "      <th>168715</th>\n",
              "      <td>1443</td>\n",
              "      <td>2021</td>\n",
              "      <td>3</td>\n",
              "      <td>2</td>\n",
              "      <td>04:00</td>\n",
              "      <td>03/02/2021</td>\n",
              "      <td>8687.156195</td>\n",
              "      <td>1355.351817</td>\n",
              "      <td>3581.461247</td>\n",
              "      <td>720.515007</td>\n",
              "      <td>10874.013581</td>\n",
              "      <td>2500.370178</td>\n",
              "      <td>5660.120212</td>\n",
              "      <td>1199.643334</td>\n",
              "      <td>34578.631572</td>\n",
              "    </tr>\n",
              "    <tr>\n",
              "      <th>168716</th>\n",
              "      <td>1444</td>\n",
              "      <td>2021</td>\n",
              "      <td>3</td>\n",
              "      <td>2</td>\n",
              "      <td>05:00</td>\n",
              "      <td>03/02/2021</td>\n",
              "      <td>8920.723467</td>\n",
              "      <td>1410.460122</td>\n",
              "      <td>3599.008463</td>\n",
              "      <td>750.069923</td>\n",
              "      <td>11458.052709</td>\n",
              "      <td>2547.677158</td>\n",
              "      <td>5903.217849</td>\n",
              "      <td>1246.204695</td>\n",
              "      <td>35835.414386</td>\n",
              "    </tr>\n",
              "    <tr>\n",
              "      <th>168717</th>\n",
              "      <td>1430</td>\n",
              "      <td>2021</td>\n",
              "      <td>3</td>\n",
              "      <td>1</td>\n",
              "      <td>15:00</td>\n",
              "      <td>03/01/2021</td>\n",
              "      <td>10437.689560</td>\n",
              "      <td>1558.684949</td>\n",
              "      <td>3435.625725</td>\n",
              "      <td>728.404971</td>\n",
              "      <td>12607.138170</td>\n",
              "      <td>2938.918791</td>\n",
              "      <td>6268.638184</td>\n",
              "      <td>1126.746986</td>\n",
              "      <td>39101.847336</td>\n",
              "    </tr>\n",
              "    <tr>\n",
              "      <th>168718</th>\n",
              "      <td>1068</td>\n",
              "      <td>2021</td>\n",
              "      <td>2</td>\n",
              "      <td>14</td>\n",
              "      <td>13:00</td>\n",
              "      <td>02/14/2021</td>\n",
              "      <td>14252.123851</td>\n",
              "      <td>2763.799022</td>\n",
              "      <td>3045.400905</td>\n",
              "      <td>1381.480487</td>\n",
              "      <td>23929.091107</td>\n",
              "      <td>5584.522548</td>\n",
              "      <td>12180.474820</td>\n",
              "      <td>1910.559473</td>\n",
              "      <td>65047.452214</td>\n",
              "    </tr>\n",
              "  </tbody>\n",
              "</table>\n",
              "<p>168719 rows × 15 columns</p>\n",
              "</div>"
            ],
            "text/plain": [
              "        Unnamed: 0  Year  Month  ...         SCENT         WEST         ERCOT\n",
              "0             8735  2002     12  ...   3744.193820   726.417570  23944.960610\n",
              "1             2886  2002      5  ...   5161.428563   831.237731  32715.084501\n",
              "2             2887  2002      5  ...   5219.559143   872.733475  33573.249488\n",
              "3             2888  2002      5  ...   5529.945543   937.479422  35461.577880\n",
              "4             2889  2002      5  ...   5880.871126  1003.004371  37873.165666\n",
              "...            ...   ...    ...  ...           ...          ...           ...\n",
              "168714        1442  2021      3  ...   5565.379531  1176.590418  34208.992577\n",
              "168715        1443  2021      3  ...   5660.120212  1199.643334  34578.631572\n",
              "168716        1444  2021      3  ...   5903.217849  1246.204695  35835.414386\n",
              "168717        1430  2021      3  ...   6268.638184  1126.746986  39101.847336\n",
              "168718        1068  2021      2  ...  12180.474820  1910.559473  65047.452214\n",
              "\n",
              "[168719 rows x 15 columns]"
            ]
          },
          "metadata": {
            "tags": []
          },
          "execution_count": 306
        }
      ]
    },
    {
      "cell_type": "code",
      "metadata": {
        "id": "24DzD_YxD4x4"
      },
      "source": [
        "df_ercot = df_ercot[['Year', 'Month', 'Day','COAST']]"
      ],
      "execution_count": 446,
      "outputs": []
    },
    {
      "cell_type": "code",
      "metadata": {
        "id": "C_ShPQxLECFN"
      },
      "source": [
        "df_ercot = df_ercot.loc[df_ercot['Year'] <= 2016]"
      ],
      "execution_count": 447,
      "outputs": []
    },
    {
      "cell_type": "code",
      "metadata": {
        "id": "h9PJ7B_mFDVI"
      },
      "source": [
        "df_ercot = df_ercot.loc[df_ercot['Year'] >= 2013]"
      ],
      "execution_count": 448,
      "outputs": []
    },
    {
      "cell_type": "code",
      "metadata": {
        "colab": {
          "base_uri": "https://localhost:8080/"
        },
        "id": "VqFtxX8dFgAm",
        "outputId": "52ddfd61-5fc8-45fe-836b-cd0d35a712fa"
      },
      "source": [
        "cd houston_weather/"
      ],
      "execution_count": 450,
      "outputs": [
        {
          "output_type": "stream",
          "text": [
            "/content/drive/Shareddrives/Data Science Project/data/houston_weather\n"
          ],
          "name": "stdout"
        }
      ]
    },
    {
      "cell_type": "code",
      "metadata": {
        "id": "8kaOd5SIFhaV"
      },
      "source": [
        "df_houston = pd.read_csv('houston_weather_2013to2016.csv')"
      ],
      "execution_count": 451,
      "outputs": []
    },
    {
      "cell_type": "code",
      "metadata": {
        "id": "Xh2frT58Fva-"
      },
      "source": [
        "df_houston = df_houston[0:35064]"
      ],
      "execution_count": 452,
      "outputs": []
    },
    {
      "cell_type": "code",
      "metadata": {
        "id": "xRxffxb3F5eQ"
      },
      "source": [
        "df_ercot['PrecipitationTotalInches'] = df_houston[['PRCP']]"
      ],
      "execution_count": 453,
      "outputs": []
    },
    {
      "cell_type": "code",
      "metadata": {
        "id": "2dz97gd-GISo"
      },
      "source": [
        "df = df_ercot.fillna(0)"
      ],
      "execution_count": 454,
      "outputs": []
    },
    {
      "cell_type": "code",
      "metadata": {
        "id": "YeKkroSJM-XB"
      },
      "source": [
        "df_new2 = df"
      ],
      "execution_count": 455,
      "outputs": []
    },
    {
      "cell_type": "code",
      "metadata": {
        "id": "YUT2Yq5DGMGu"
      },
      "source": [
        "df_new2 = df_new2[['Year', 'Month', 'Day', 'PrecipitationTotalInches', 'COAST']]"
      ],
      "execution_count": 456,
      "outputs": []
    },
    {
      "cell_type": "code",
      "metadata": {
        "id": "Dkj8L5vPNCbd"
      },
      "source": [
        "df_new2.to_csv('houston_dataframe.csv')"
      ],
      "execution_count": 457,
      "outputs": []
    },
    {
      "cell_type": "markdown",
      "metadata": {
        "id": "OYZoh4a3WD0Y"
      },
      "source": [
        "## **Data Preprocessing**"
      ]
    },
    {
      "cell_type": "code",
      "metadata": {
        "id": "BXGNeerlWDTM"
      },
      "source": [
        "# Standardize the data\n",
        "from sklearn.preprocessing import MinMaxScaler\n",
        "\n",
        "scaler = MinMaxScaler()\n",
        "df_new = scaler.fit_transform(df)"
      ],
      "execution_count": 325,
      "outputs": []
    },
    {
      "cell_type": "code",
      "metadata": {
        "id": "qjWQVIswXST0"
      },
      "source": [
        "df_transformed = pd.DataFrame(df_new)"
      ],
      "execution_count": 326,
      "outputs": []
    },
    {
      "cell_type": "code",
      "metadata": {
        "id": "vGy64CSrXiTV"
      },
      "source": [
        "df_transformed = df_transformed.rename(columns={0: \"Year\", 1:'Month', 2:'Day', 3:'TempAvgF', 4:'WindAvgMPH', 5:'PrecipiationTotalInches', 6: 'Population', 7: 'SCENTTotalElectricityinMWPH'})"
      ],
      "execution_count": 217,
      "outputs": []
    },
    {
      "cell_type": "code",
      "metadata": {
        "colab": {
          "base_uri": "https://localhost:8080/",
          "height": 419
        },
        "id": "wj8OV6ihX9wO",
        "outputId": "abcba71d-912d-4252-a9c6-ebc51840f226"
      },
      "source": [
        "df_transformed"
      ],
      "execution_count": 327,
      "outputs": [
        {
          "output_type": "execute_result",
          "data": {
            "text/html": [
              "<div>\n",
              "<style scoped>\n",
              "    .dataframe tbody tr th:only-of-type {\n",
              "        vertical-align: middle;\n",
              "    }\n",
              "\n",
              "    .dataframe tbody tr th {\n",
              "        vertical-align: top;\n",
              "    }\n",
              "\n",
              "    .dataframe thead th {\n",
              "        text-align: right;\n",
              "    }\n",
              "</style>\n",
              "<table border=\"1\" class=\"dataframe\">\n",
              "  <thead>\n",
              "    <tr style=\"text-align: right;\">\n",
              "      <th></th>\n",
              "      <th>0</th>\n",
              "      <th>1</th>\n",
              "      <th>2</th>\n",
              "      <th>3</th>\n",
              "      <th>4</th>\n",
              "    </tr>\n",
              "  </thead>\n",
              "  <tbody>\n",
              "    <tr>\n",
              "      <th>0</th>\n",
              "      <td>0.0</td>\n",
              "      <td>0.363636</td>\n",
              "      <td>0.033333</td>\n",
              "      <td>0.0</td>\n",
              "      <td>0.455504</td>\n",
              "    </tr>\n",
              "    <tr>\n",
              "      <th>1</th>\n",
              "      <td>0.0</td>\n",
              "      <td>0.363636</td>\n",
              "      <td>0.033333</td>\n",
              "      <td>0.0</td>\n",
              "      <td>0.459797</td>\n",
              "    </tr>\n",
              "    <tr>\n",
              "      <th>2</th>\n",
              "      <td>0.0</td>\n",
              "      <td>0.363636</td>\n",
              "      <td>0.033333</td>\n",
              "      <td>0.0</td>\n",
              "      <td>0.480504</td>\n",
              "    </tr>\n",
              "    <tr>\n",
              "      <th>3</th>\n",
              "      <td>0.0</td>\n",
              "      <td>0.363636</td>\n",
              "      <td>0.033333</td>\n",
              "      <td>0.0</td>\n",
              "      <td>0.526934</td>\n",
              "    </tr>\n",
              "    <tr>\n",
              "      <th>4</th>\n",
              "      <td>0.0</td>\n",
              "      <td>0.363636</td>\n",
              "      <td>0.033333</td>\n",
              "      <td>0.0</td>\n",
              "      <td>0.497758</td>\n",
              "    </tr>\n",
              "    <tr>\n",
              "      <th>...</th>\n",
              "      <td>...</td>\n",
              "      <td>...</td>\n",
              "      <td>...</td>\n",
              "      <td>...</td>\n",
              "      <td>...</td>\n",
              "    </tr>\n",
              "    <tr>\n",
              "      <th>35059</th>\n",
              "      <td>1.0</td>\n",
              "      <td>0.727273</td>\n",
              "      <td>0.000000</td>\n",
              "      <td>0.0</td>\n",
              "      <td>0.534697</td>\n",
              "    </tr>\n",
              "    <tr>\n",
              "      <th>35060</th>\n",
              "      <td>1.0</td>\n",
              "      <td>0.727273</td>\n",
              "      <td>0.000000</td>\n",
              "      <td>0.0</td>\n",
              "      <td>0.556248</td>\n",
              "    </tr>\n",
              "    <tr>\n",
              "      <th>35061</th>\n",
              "      <td>1.0</td>\n",
              "      <td>0.727273</td>\n",
              "      <td>0.000000</td>\n",
              "      <td>0.0</td>\n",
              "      <td>0.584109</td>\n",
              "    </tr>\n",
              "    <tr>\n",
              "      <th>35062</th>\n",
              "      <td>1.0</td>\n",
              "      <td>0.727273</td>\n",
              "      <td>0.000000</td>\n",
              "      <td>0.0</td>\n",
              "      <td>0.628216</td>\n",
              "    </tr>\n",
              "    <tr>\n",
              "      <th>35063</th>\n",
              "      <td>1.0</td>\n",
              "      <td>0.727273</td>\n",
              "      <td>0.000000</td>\n",
              "      <td>0.0</td>\n",
              "      <td>0.528348</td>\n",
              "    </tr>\n",
              "  </tbody>\n",
              "</table>\n",
              "<p>35064 rows × 5 columns</p>\n",
              "</div>"
            ],
            "text/plain": [
              "         0         1         2    3         4\n",
              "0      0.0  0.363636  0.033333  0.0  0.455504\n",
              "1      0.0  0.363636  0.033333  0.0  0.459797\n",
              "2      0.0  0.363636  0.033333  0.0  0.480504\n",
              "3      0.0  0.363636  0.033333  0.0  0.526934\n",
              "4      0.0  0.363636  0.033333  0.0  0.497758\n",
              "...    ...       ...       ...  ...       ...\n",
              "35059  1.0  0.727273  0.000000  0.0  0.534697\n",
              "35060  1.0  0.727273  0.000000  0.0  0.556248\n",
              "35061  1.0  0.727273  0.000000  0.0  0.584109\n",
              "35062  1.0  0.727273  0.000000  0.0  0.628216\n",
              "35063  1.0  0.727273  0.000000  0.0  0.528348\n",
              "\n",
              "[35064 rows x 5 columns]"
            ]
          },
          "metadata": {
            "tags": []
          },
          "execution_count": 327
        }
      ]
    },
    {
      "cell_type": "code",
      "metadata": {
        "id": "n2-w4i2wY40V"
      },
      "source": [
        "feature_vars = [0, 1, 2, 3]\n",
        "\n",
        "X = df_transformed.loc[:, feature_vars].values\n",
        "y = df_transformed.loc[:,[4]].values"
      ],
      "execution_count": 328,
      "outputs": []
    },
    {
      "cell_type": "code",
      "metadata": {
        "colab": {
          "base_uri": "https://localhost:8080/",
          "height": 419
        },
        "id": "uXO_wsNMZc1v",
        "outputId": "05899efd-d35b-406f-b401-f3739ea752c2"
      },
      "source": [
        "# feature array\n",
        "pd.DataFrame(X)"
      ],
      "execution_count": 329,
      "outputs": [
        {
          "output_type": "execute_result",
          "data": {
            "text/html": [
              "<div>\n",
              "<style scoped>\n",
              "    .dataframe tbody tr th:only-of-type {\n",
              "        vertical-align: middle;\n",
              "    }\n",
              "\n",
              "    .dataframe tbody tr th {\n",
              "        vertical-align: top;\n",
              "    }\n",
              "\n",
              "    .dataframe thead th {\n",
              "        text-align: right;\n",
              "    }\n",
              "</style>\n",
              "<table border=\"1\" class=\"dataframe\">\n",
              "  <thead>\n",
              "    <tr style=\"text-align: right;\">\n",
              "      <th></th>\n",
              "      <th>0</th>\n",
              "      <th>1</th>\n",
              "      <th>2</th>\n",
              "      <th>3</th>\n",
              "    </tr>\n",
              "  </thead>\n",
              "  <tbody>\n",
              "    <tr>\n",
              "      <th>0</th>\n",
              "      <td>0.0</td>\n",
              "      <td>0.363636</td>\n",
              "      <td>0.033333</td>\n",
              "      <td>0.0</td>\n",
              "    </tr>\n",
              "    <tr>\n",
              "      <th>1</th>\n",
              "      <td>0.0</td>\n",
              "      <td>0.363636</td>\n",
              "      <td>0.033333</td>\n",
              "      <td>0.0</td>\n",
              "    </tr>\n",
              "    <tr>\n",
              "      <th>2</th>\n",
              "      <td>0.0</td>\n",
              "      <td>0.363636</td>\n",
              "      <td>0.033333</td>\n",
              "      <td>0.0</td>\n",
              "    </tr>\n",
              "    <tr>\n",
              "      <th>3</th>\n",
              "      <td>0.0</td>\n",
              "      <td>0.363636</td>\n",
              "      <td>0.033333</td>\n",
              "      <td>0.0</td>\n",
              "    </tr>\n",
              "    <tr>\n",
              "      <th>4</th>\n",
              "      <td>0.0</td>\n",
              "      <td>0.363636</td>\n",
              "      <td>0.033333</td>\n",
              "      <td>0.0</td>\n",
              "    </tr>\n",
              "    <tr>\n",
              "      <th>...</th>\n",
              "      <td>...</td>\n",
              "      <td>...</td>\n",
              "      <td>...</td>\n",
              "      <td>...</td>\n",
              "    </tr>\n",
              "    <tr>\n",
              "      <th>35059</th>\n",
              "      <td>1.0</td>\n",
              "      <td>0.727273</td>\n",
              "      <td>0.000000</td>\n",
              "      <td>0.0</td>\n",
              "    </tr>\n",
              "    <tr>\n",
              "      <th>35060</th>\n",
              "      <td>1.0</td>\n",
              "      <td>0.727273</td>\n",
              "      <td>0.000000</td>\n",
              "      <td>0.0</td>\n",
              "    </tr>\n",
              "    <tr>\n",
              "      <th>35061</th>\n",
              "      <td>1.0</td>\n",
              "      <td>0.727273</td>\n",
              "      <td>0.000000</td>\n",
              "      <td>0.0</td>\n",
              "    </tr>\n",
              "    <tr>\n",
              "      <th>35062</th>\n",
              "      <td>1.0</td>\n",
              "      <td>0.727273</td>\n",
              "      <td>0.000000</td>\n",
              "      <td>0.0</td>\n",
              "    </tr>\n",
              "    <tr>\n",
              "      <th>35063</th>\n",
              "      <td>1.0</td>\n",
              "      <td>0.727273</td>\n",
              "      <td>0.000000</td>\n",
              "      <td>0.0</td>\n",
              "    </tr>\n",
              "  </tbody>\n",
              "</table>\n",
              "<p>35064 rows × 4 columns</p>\n",
              "</div>"
            ],
            "text/plain": [
              "         0         1         2    3\n",
              "0      0.0  0.363636  0.033333  0.0\n",
              "1      0.0  0.363636  0.033333  0.0\n",
              "2      0.0  0.363636  0.033333  0.0\n",
              "3      0.0  0.363636  0.033333  0.0\n",
              "4      0.0  0.363636  0.033333  0.0\n",
              "...    ...       ...       ...  ...\n",
              "35059  1.0  0.727273  0.000000  0.0\n",
              "35060  1.0  0.727273  0.000000  0.0\n",
              "35061  1.0  0.727273  0.000000  0.0\n",
              "35062  1.0  0.727273  0.000000  0.0\n",
              "35063  1.0  0.727273  0.000000  0.0\n",
              "\n",
              "[35064 rows x 4 columns]"
            ]
          },
          "metadata": {
            "tags": []
          },
          "execution_count": 329
        }
      ]
    },
    {
      "cell_type": "code",
      "metadata": {
        "id": "5NB_49sdWAur"
      },
      "source": [
        "from sklearn.decomposition import PCA\n",
        "pca = PCA(n_components=2)\n",
        "principalComponents = pca.fit_transform(X)\n",
        "\n",
        "principalDf = pd.DataFrame(data = principalComponents\n",
        "             , columns = ['principal component 1', 'principal component 2'])"
      ],
      "execution_count": 330,
      "outputs": []
    },
    {
      "cell_type": "code",
      "metadata": {
        "id": "rjLovzysV_nN",
        "colab": {
          "base_uri": "https://localhost:8080/",
          "height": 419
        },
        "outputId": "5680fb0c-81e7-43ca-88c4-751e98e5d527"
      },
      "source": [
        "# After completing dimensionality reduction\n",
        "principalDf"
      ],
      "execution_count": 331,
      "outputs": [
        {
          "output_type": "execute_result",
          "data": {
            "text/html": [
              "<div>\n",
              "<style scoped>\n",
              "    .dataframe tbody tr th:only-of-type {\n",
              "        vertical-align: middle;\n",
              "    }\n",
              "\n",
              "    .dataframe tbody tr th {\n",
              "        vertical-align: top;\n",
              "    }\n",
              "\n",
              "    .dataframe thead th {\n",
              "        text-align: right;\n",
              "    }\n",
              "</style>\n",
              "<table border=\"1\" class=\"dataframe\">\n",
              "  <thead>\n",
              "    <tr style=\"text-align: right;\">\n",
              "      <th></th>\n",
              "      <th>principal component 1</th>\n",
              "      <th>principal component 2</th>\n",
              "    </tr>\n",
              "  </thead>\n",
              "  <tbody>\n",
              "    <tr>\n",
              "      <th>0</th>\n",
              "      <td>0.501149</td>\n",
              "      <td>0.174613</td>\n",
              "    </tr>\n",
              "    <tr>\n",
              "      <th>1</th>\n",
              "      <td>0.501149</td>\n",
              "      <td>0.174613</td>\n",
              "    </tr>\n",
              "    <tr>\n",
              "      <th>2</th>\n",
              "      <td>0.501149</td>\n",
              "      <td>0.174613</td>\n",
              "    </tr>\n",
              "    <tr>\n",
              "      <th>3</th>\n",
              "      <td>0.501149</td>\n",
              "      <td>0.174613</td>\n",
              "    </tr>\n",
              "    <tr>\n",
              "      <th>4</th>\n",
              "      <td>0.501149</td>\n",
              "      <td>0.174613</td>\n",
              "    </tr>\n",
              "    <tr>\n",
              "      <th>...</th>\n",
              "      <td>...</td>\n",
              "      <td>...</td>\n",
              "    </tr>\n",
              "    <tr>\n",
              "      <th>35059</th>\n",
              "      <td>-0.497513</td>\n",
              "      <td>-0.188593</td>\n",
              "    </tr>\n",
              "    <tr>\n",
              "      <th>35060</th>\n",
              "      <td>-0.497513</td>\n",
              "      <td>-0.188593</td>\n",
              "    </tr>\n",
              "    <tr>\n",
              "      <th>35061</th>\n",
              "      <td>-0.497513</td>\n",
              "      <td>-0.188593</td>\n",
              "    </tr>\n",
              "    <tr>\n",
              "      <th>35062</th>\n",
              "      <td>-0.497513</td>\n",
              "      <td>-0.188593</td>\n",
              "    </tr>\n",
              "    <tr>\n",
              "      <th>35063</th>\n",
              "      <td>-0.497513</td>\n",
              "      <td>-0.188593</td>\n",
              "    </tr>\n",
              "  </tbody>\n",
              "</table>\n",
              "<p>35064 rows × 2 columns</p>\n",
              "</div>"
            ],
            "text/plain": [
              "       principal component 1  principal component 2\n",
              "0                   0.501149               0.174613\n",
              "1                   0.501149               0.174613\n",
              "2                   0.501149               0.174613\n",
              "3                   0.501149               0.174613\n",
              "4                   0.501149               0.174613\n",
              "...                      ...                    ...\n",
              "35059              -0.497513              -0.188593\n",
              "35060              -0.497513              -0.188593\n",
              "35061              -0.497513              -0.188593\n",
              "35062              -0.497513              -0.188593\n",
              "35063              -0.497513              -0.188593\n",
              "\n",
              "[35064 rows x 2 columns]"
            ]
          },
          "metadata": {
            "tags": []
          },
          "execution_count": 331
        }
      ]
    },
    {
      "cell_type": "code",
      "metadata": {
        "id": "BlH6pfzXcOse"
      },
      "source": [
        "df_complete = pd.concat([principalDf, df_transformed[[4]]], axis = 1)"
      ],
      "execution_count": 332,
      "outputs": []
    },
    {
      "cell_type": "code",
      "metadata": {
        "colab": {
          "base_uri": "https://localhost:8080/",
          "height": 419
        },
        "id": "2-DLlzyRcZrj",
        "outputId": "40c2c709-5a53-4501-94c6-ba5b52d3753b"
      },
      "source": [
        "df_complete"
      ],
      "execution_count": 333,
      "outputs": [
        {
          "output_type": "execute_result",
          "data": {
            "text/html": [
              "<div>\n",
              "<style scoped>\n",
              "    .dataframe tbody tr th:only-of-type {\n",
              "        vertical-align: middle;\n",
              "    }\n",
              "\n",
              "    .dataframe tbody tr th {\n",
              "        vertical-align: top;\n",
              "    }\n",
              "\n",
              "    .dataframe thead th {\n",
              "        text-align: right;\n",
              "    }\n",
              "</style>\n",
              "<table border=\"1\" class=\"dataframe\">\n",
              "  <thead>\n",
              "    <tr style=\"text-align: right;\">\n",
              "      <th></th>\n",
              "      <th>principal component 1</th>\n",
              "      <th>principal component 2</th>\n",
              "      <th>4</th>\n",
              "    </tr>\n",
              "  </thead>\n",
              "  <tbody>\n",
              "    <tr>\n",
              "      <th>0</th>\n",
              "      <td>0.501149</td>\n",
              "      <td>0.174613</td>\n",
              "      <td>0.455504</td>\n",
              "    </tr>\n",
              "    <tr>\n",
              "      <th>1</th>\n",
              "      <td>0.501149</td>\n",
              "      <td>0.174613</td>\n",
              "      <td>0.459797</td>\n",
              "    </tr>\n",
              "    <tr>\n",
              "      <th>2</th>\n",
              "      <td>0.501149</td>\n",
              "      <td>0.174613</td>\n",
              "      <td>0.480504</td>\n",
              "    </tr>\n",
              "    <tr>\n",
              "      <th>3</th>\n",
              "      <td>0.501149</td>\n",
              "      <td>0.174613</td>\n",
              "      <td>0.526934</td>\n",
              "    </tr>\n",
              "    <tr>\n",
              "      <th>4</th>\n",
              "      <td>0.501149</td>\n",
              "      <td>0.174613</td>\n",
              "      <td>0.497758</td>\n",
              "    </tr>\n",
              "    <tr>\n",
              "      <th>...</th>\n",
              "      <td>...</td>\n",
              "      <td>...</td>\n",
              "      <td>...</td>\n",
              "    </tr>\n",
              "    <tr>\n",
              "      <th>35059</th>\n",
              "      <td>-0.497513</td>\n",
              "      <td>-0.188593</td>\n",
              "      <td>0.534697</td>\n",
              "    </tr>\n",
              "    <tr>\n",
              "      <th>35060</th>\n",
              "      <td>-0.497513</td>\n",
              "      <td>-0.188593</td>\n",
              "      <td>0.556248</td>\n",
              "    </tr>\n",
              "    <tr>\n",
              "      <th>35061</th>\n",
              "      <td>-0.497513</td>\n",
              "      <td>-0.188593</td>\n",
              "      <td>0.584109</td>\n",
              "    </tr>\n",
              "    <tr>\n",
              "      <th>35062</th>\n",
              "      <td>-0.497513</td>\n",
              "      <td>-0.188593</td>\n",
              "      <td>0.628216</td>\n",
              "    </tr>\n",
              "    <tr>\n",
              "      <th>35063</th>\n",
              "      <td>-0.497513</td>\n",
              "      <td>-0.188593</td>\n",
              "      <td>0.528348</td>\n",
              "    </tr>\n",
              "  </tbody>\n",
              "</table>\n",
              "<p>35064 rows × 3 columns</p>\n",
              "</div>"
            ],
            "text/plain": [
              "       principal component 1  principal component 2         4\n",
              "0                   0.501149               0.174613  0.455504\n",
              "1                   0.501149               0.174613  0.459797\n",
              "2                   0.501149               0.174613  0.480504\n",
              "3                   0.501149               0.174613  0.526934\n",
              "4                   0.501149               0.174613  0.497758\n",
              "...                      ...                    ...       ...\n",
              "35059              -0.497513              -0.188593  0.534697\n",
              "35060              -0.497513              -0.188593  0.556248\n",
              "35061              -0.497513              -0.188593  0.584109\n",
              "35062              -0.497513              -0.188593  0.628216\n",
              "35063              -0.497513              -0.188593  0.528348\n",
              "\n",
              "[35064 rows x 3 columns]"
            ]
          },
          "metadata": {
            "tags": []
          },
          "execution_count": 333
        }
      ]
    },
    {
      "cell_type": "markdown",
      "metadata": {
        "id": "thmMsTbRmg1r"
      },
      "source": [
        "## **Multi-Linear Regression**"
      ]
    },
    {
      "cell_type": "code",
      "metadata": {
        "id": "CvuO1DxSWjI5"
      },
      "source": [
        "from sklearn.model_selection import train_test_split"
      ],
      "execution_count": 335,
      "outputs": []
    },
    {
      "cell_type": "code",
      "metadata": {
        "id": "nyF0ezEGmk_0"
      },
      "source": [
        "X = df_complete[['principal component 1', 'principal component 2']]"
      ],
      "execution_count": 336,
      "outputs": []
    },
    {
      "cell_type": "code",
      "metadata": {
        "id": "ux5XFyUvnff5"
      },
      "source": [
        "y = df_complete[[4]]"
      ],
      "execution_count": 337,
      "outputs": []
    },
    {
      "cell_type": "code",
      "metadata": {
        "colab": {
          "base_uri": "https://localhost:8080/",
          "height": 419
        },
        "id": "mowoMdFanjXx",
        "outputId": "55c529fa-4b60-49bf-95dc-95faccd19b7c"
      },
      "source": [
        "y"
      ],
      "execution_count": 338,
      "outputs": [
        {
          "output_type": "execute_result",
          "data": {
            "text/html": [
              "<div>\n",
              "<style scoped>\n",
              "    .dataframe tbody tr th:only-of-type {\n",
              "        vertical-align: middle;\n",
              "    }\n",
              "\n",
              "    .dataframe tbody tr th {\n",
              "        vertical-align: top;\n",
              "    }\n",
              "\n",
              "    .dataframe thead th {\n",
              "        text-align: right;\n",
              "    }\n",
              "</style>\n",
              "<table border=\"1\" class=\"dataframe\">\n",
              "  <thead>\n",
              "    <tr style=\"text-align: right;\">\n",
              "      <th></th>\n",
              "      <th>4</th>\n",
              "    </tr>\n",
              "  </thead>\n",
              "  <tbody>\n",
              "    <tr>\n",
              "      <th>0</th>\n",
              "      <td>0.455504</td>\n",
              "    </tr>\n",
              "    <tr>\n",
              "      <th>1</th>\n",
              "      <td>0.459797</td>\n",
              "    </tr>\n",
              "    <tr>\n",
              "      <th>2</th>\n",
              "      <td>0.480504</td>\n",
              "    </tr>\n",
              "    <tr>\n",
              "      <th>3</th>\n",
              "      <td>0.526934</td>\n",
              "    </tr>\n",
              "    <tr>\n",
              "      <th>4</th>\n",
              "      <td>0.497758</td>\n",
              "    </tr>\n",
              "    <tr>\n",
              "      <th>...</th>\n",
              "      <td>...</td>\n",
              "    </tr>\n",
              "    <tr>\n",
              "      <th>35059</th>\n",
              "      <td>0.534697</td>\n",
              "    </tr>\n",
              "    <tr>\n",
              "      <th>35060</th>\n",
              "      <td>0.556248</td>\n",
              "    </tr>\n",
              "    <tr>\n",
              "      <th>35061</th>\n",
              "      <td>0.584109</td>\n",
              "    </tr>\n",
              "    <tr>\n",
              "      <th>35062</th>\n",
              "      <td>0.628216</td>\n",
              "    </tr>\n",
              "    <tr>\n",
              "      <th>35063</th>\n",
              "      <td>0.528348</td>\n",
              "    </tr>\n",
              "  </tbody>\n",
              "</table>\n",
              "<p>35064 rows × 1 columns</p>\n",
              "</div>"
            ],
            "text/plain": [
              "              4\n",
              "0      0.455504\n",
              "1      0.459797\n",
              "2      0.480504\n",
              "3      0.526934\n",
              "4      0.497758\n",
              "...         ...\n",
              "35059  0.534697\n",
              "35060  0.556248\n",
              "35061  0.584109\n",
              "35062  0.628216\n",
              "35063  0.528348\n",
              "\n",
              "[35064 rows x 1 columns]"
            ]
          },
          "metadata": {
            "tags": []
          },
          "execution_count": 338
        }
      ]
    },
    {
      "cell_type": "code",
      "metadata": {
        "id": "zcg0PvAaWlL2"
      },
      "source": [
        "X_train, X_test, y_train, y_test = train_test_split(X, y, test_size=0.33, random_state=42)"
      ],
      "execution_count": 339,
      "outputs": []
    },
    {
      "cell_type": "code",
      "metadata": {
        "colab": {
          "base_uri": "https://localhost:8080/"
        },
        "id": "GD9m1HNOWWqr",
        "outputId": "dca911cc-cd2e-4b97-de47-52e0ac3778a0"
      },
      "source": [
        "reg = linear_model.LinearRegression()\n",
        "reg.fit(X_train, y_train)"
      ],
      "execution_count": 340,
      "outputs": [
        {
          "output_type": "execute_result",
          "data": {
            "text/plain": [
              "LinearRegression(copy_X=True, fit_intercept=True, n_jobs=None, normalize=False)"
            ]
          },
          "metadata": {
            "tags": []
          },
          "execution_count": 340
        }
      ]
    },
    {
      "cell_type": "code",
      "metadata": {
        "id": "-kROmlMDXB5n"
      },
      "source": [
        "output = reg.predict(X_test)"
      ],
      "execution_count": 341,
      "outputs": []
    },
    {
      "cell_type": "code",
      "metadata": {
        "colab": {
          "base_uri": "https://localhost:8080/"
        },
        "id": "q4PkUcivXJID",
        "outputId": "05c118ca-29f3-4c04-8e53-5ebe04b82dc3"
      },
      "source": [
        "reg.coef_"
      ],
      "execution_count": 342,
      "outputs": [
        {
          "output_type": "execute_result",
          "data": {
            "text/plain": [
              "array([[-0.04597706, -0.06797207]])"
            ]
          },
          "metadata": {
            "tags": []
          },
          "execution_count": 342
        }
      ]
    },
    {
      "cell_type": "code",
      "metadata": {
        "colab": {
          "base_uri": "https://localhost:8080/"
        },
        "id": "LQktH7_eXN4J",
        "outputId": "391c2a79-dda1-47fb-c068-88e9faec84cd"
      },
      "source": [
        "reg.intercept_"
      ],
      "execution_count": 343,
      "outputs": [
        {
          "output_type": "execute_result",
          "data": {
            "text/plain": [
              "array([0.56398246])"
            ]
          },
          "metadata": {
            "tags": []
          },
          "execution_count": 343
        }
      ]
    },
    {
      "cell_type": "code",
      "metadata": {
        "id": "QUQPeNJun7oJ"
      },
      "source": [
        "x_pred = np.linspace(0, 1, 200)            # 200 data points between 0 ~ 40\n",
        "x_pred = x_pred.reshape(-1, 2)  # preprocessing required by scikit-learn functions\n",
        "\n",
        "y_pred = reg.predict(x_pred)"
      ],
      "execution_count": 344,
      "outputs": []
    },
    {
      "cell_type": "code",
      "metadata": {
        "colab": {
          "base_uri": "https://localhost:8080/"
        },
        "id": "fAeKK_37ouD3",
        "outputId": "a4428c5e-0b06-47c3-ef32-bf5ed224b004"
      },
      "source": [
        "x_pred.size"
      ],
      "execution_count": 345,
      "outputs": [
        {
          "output_type": "execute_result",
          "data": {
            "text/plain": [
              "200"
            ]
          },
          "metadata": {
            "tags": []
          },
          "execution_count": 345
        }
      ]
    },
    {
      "cell_type": "code",
      "metadata": {
        "colab": {
          "base_uri": "https://localhost:8080/",
          "height": 312
        },
        "id": "tgt6vHn2of7X",
        "outputId": "395dc982-78cf-4343-8c1d-4bc3437bca08"
      },
      "source": [
        "plt.plot(x_pred[:, 0], y_pred)\n",
        "plt.title('Multi Linear Regression Model')\n",
        "plt.xlabel('Feature, Normalized')\n",
        "plt.ylabel('Predicted Normalized range of Kilowatt Hours')"
      ],
      "execution_count": 346,
      "outputs": [
        {
          "output_type": "execute_result",
          "data": {
            "text/plain": [
              "Text(0, 0.5, 'Predicted Normalized range of Kilowatt Hours')"
            ]
          },
          "metadata": {
            "tags": []
          },
          "execution_count": 346
        },
        {
          "output_type": "display_data",
          "data": {
            "image/png": "[encoded data removed]",
            "text/plain": [
              "<Figure size 432x288 with 1 Axes>"
            ]
          },
          "metadata": {
            "tags": [],
            "needs_background": "light"
          }
        }
      ]
    },
    {
      "cell_type": "code",
      "metadata": {
        "colab": {
          "base_uri": "https://localhost:8080/"
        },
        "id": "fkkS2LlFrvDo",
        "outputId": "1a6ee55f-538e-493d-c6cc-65ead6d34874"
      },
      "source": [
        "# For calculating purposes\n",
        "X_test['index'] = np.arange(11572)"
      ],
      "execution_count": 386,
      "outputs": [
        {
          "output_type": "stream",
          "text": [
            "/usr/local/lib/python3.7/dist-packages/ipykernel_launcher.py:1: SettingWithCopyWarning: \n",
            "A value is trying to be set on a copy of a slice from a DataFrame.\n",
            "Try using .loc[row_indexer,col_indexer] = value instead\n",
            "\n",
            "See the caveats in the documentation: https://pandas.pydata.org/pandas-docs/stable/user_guide/indexing.html#returning-a-view-versus-a-copy\n",
            "  \"\"\"Entry point for launching an IPython kernel.\n"
          ],
          "name": "stderr"
        }
      ]
    },
    {
      "cell_type": "code",
      "metadata": {
        "colab": {
          "base_uri": "https://localhost:8080/"
        },
        "id": "zElfISmQs0Vw",
        "outputId": "534033d8-fe47-4bec-ed48-65fb6dd23ec1"
      },
      "source": [
        "max(df['COAST'])"
      ],
      "execution_count": 349,
      "outputs": [
        {
          "output_type": "execute_result",
          "data": {
            "text/plain": [
              "19928.724765915238"
            ]
          },
          "metadata": {
            "tags": []
          },
          "execution_count": 349
        }
      ]
    },
    {
      "cell_type": "code",
      "metadata": {
        "colab": {
          "base_uri": "https://localhost:8080/"
        },
        "id": "ssxOF7dys7Pw",
        "outputId": "505ed863-06e2-4d3d-acc8-9e970a3bc4d7"
      },
      "source": [
        "min(df['COAST'])"
      ],
      "execution_count": 351,
      "outputs": [
        {
          "output_type": "execute_result",
          "data": {
            "text/plain": [
              "0.0"
            ]
          },
          "metadata": {
            "tags": []
          },
          "execution_count": 351
        }
      ]
    },
    {
      "cell_type": "code",
      "metadata": {
        "colab": {
          "base_uri": "https://localhost:8080/"
        },
        "id": "ERswaMG1s-1A",
        "outputId": "cf9c650d-1ed5-4724-b1e0-86bcc3d95dde"
      },
      "source": [
        "max(df['COAST']) - min(df['COAST'])"
      ],
      "execution_count": 350,
      "outputs": [
        {
          "output_type": "execute_result",
          "data": {
            "text/plain": [
              "19928.724765915238"
            ]
          },
          "metadata": {
            "tags": []
          },
          "execution_count": 350
        }
      ]
    },
    {
      "cell_type": "code",
      "metadata": {
        "colab": {
          "base_uri": "https://localhost:8080/",
          "height": 435
        },
        "id": "OIkCyr2QoH6M",
        "outputId": "e8a87705-8d19-48fb-fdb3-1f430574fbd9"
      },
      "source": [
        "residual = (y_test.values-output)\n",
        "plt.hist(residual, bins = 25)"
      ],
      "execution_count": 263,
      "outputs": [
        {
          "output_type": "execute_result",
          "data": {
            "text/plain": [
              "(array([  49.,  722., 1380., 1373., 1905., 2775., 3511., 2655., 1960.,\n",
              "        1533., 1223., 1000.,  876.,  727.,  649.,  601.,  524.,  440.,\n",
              "         351.,  237.,  191.,  129.,   54.,   31.,    8.]),\n",
              " array([-0.3105586 , -0.27292299, -0.23528739, -0.19765178, -0.16001617,\n",
              "        -0.12238056, -0.08474495, -0.04710935, -0.00947374,  0.02816187,\n",
              "         0.06579748,  0.10343308,  0.14106869,  0.1787043 ,  0.21633991,\n",
              "         0.25397552,  0.29161112,  0.32924673,  0.36688234,  0.40451795,\n",
              "         0.44215355,  0.47978916,  0.51742477,  0.55506038,  0.59269599,\n",
              "         0.63033159]),\n",
              " <a list of 25 Patch objects>)"
            ]
          },
          "metadata": {
            "tags": []
          },
          "execution_count": 263
        },
        {
          "output_type": "display_data",
          "data": {
            "image/png": "[encoded data removed]",
            "text/plain": [
              "<Figure size 432x288 with 1 Axes>"
            ]
          },
          "metadata": {
            "tags": [],
            "needs_background": "light"
          }
        }
      ]
    },
    {
      "cell_type": "code",
      "metadata": {
        "colab": {
          "base_uri": "https://localhost:8080/",
          "height": 530
        },
        "id": "WQtaHCczcDen",
        "outputId": "b7cdf086-05e7-4844-c74b-38e6aac59e5b"
      },
      "source": [
        "plt.figure(figsize=(24, 8))\n",
        "plt.title('Time Series of Power Demand from 2013-2017, from South Central')\n",
        "plt.xlabel('Days')\n",
        "plt.ylabel('Power Demand, in megawatt hours')\n",
        "plt.plot(df['NCENT'])"
      ],
      "execution_count": 264,
      "outputs": [
        {
          "output_type": "execute_result",
          "data": {
            "text/plain": [
              "[<matplotlib.lines.Line2D at 0x7fbb74b04350>]"
            ]
          },
          "metadata": {
            "tags": []
          },
          "execution_count": 264
        },
        {
          "output_type": "display_data",
          "data": {
            "image/png": "[encoded data removed]",
            "text/plain": [
              "<Figure size 1728x576 with 1 Axes>"
            ]
          },
          "metadata": {
            "tags": [],
            "needs_background": "light"
          }
        }
      ]
    },
    {
      "cell_type": "markdown",
      "metadata": {
        "id": "wPMgo761veMk"
      },
      "source": [
        "## **Polynomial Feature Scaling**"
      ]
    },
    {
      "cell_type": "code",
      "metadata": {
        "id": "4BMsX2iKJhVn"
      },
      "source": [
        "X_test = X_test.drop(columns='index')"
      ],
      "execution_count": 399,
      "outputs": []
    },
    {
      "cell_type": "code",
      "metadata": {
        "id": "fHPrD5qWeg_Y"
      },
      "source": [
        "import numpy as np\n",
        "import matplotlib.pyplot as plt\n",
        "from sklearn.metrics import mean_squared_error\n",
        "\n",
        "from sklearn.linear_model import Ridge\n",
        "from sklearn.preprocessing import PolynomialFeatures\n",
        "from sklearn.pipeline import make_pipeline"
      ],
      "execution_count": 400,
      "outputs": []
    },
    {
      "cell_type": "code",
      "metadata": {
        "id": "FqkoqoH7xluZ"
      },
      "source": [
        "def poly_transform(n):\n",
        "    poly_obj = PolynomialFeatures(n)\n",
        "    return poly_obj.fit_transform(X_train), poly_obj.fit_transform(X_test)"
      ],
      "execution_count": 401,
      "outputs": []
    },
    {
      "cell_type": "code",
      "metadata": {
        "id": "ll1o6Ahmxmix"
      },
      "source": [
        "x_train1, x_test1 = poly(1)\n",
        "x_train3, x_test3 = poly(3)\n",
        "x_train5, x_test5 = poly(5)\n",
        "x_train7, x_test7 = poly(7)\n",
        "x_train9, x_test9  = poly(9)\n",
        "x_train11, x_test11 = poly(11)"
      ],
      "execution_count": 402,
      "outputs": []
    },
    {
      "cell_type": "code",
      "metadata": {
        "colab": {
          "base_uri": "https://localhost:8080/",
          "height": 282
        },
        "id": "IGYVK7fKx4nP",
        "outputId": "ebc3cd7d-13cf-41f2-fcc5-c288a415dd0e"
      },
      "source": [
        "def ridge_plot(xr_train,xr_test):\n",
        "    ridge = Ridge()\n",
        "    ridge.fit(xr_train,y_train)\n",
        "    y_pred = ridge.predict(xr_test)\n",
        "    yt_pred = ridge.predict(xr_train)\n",
        "    mse_test = mean_squared_error(y_test, y_pred)\n",
        "    residual = (y_test.values-y_pred)\n",
        "    plt.hist(residual, bins = 25)\n",
        "    mse_train = mean_squared_error(y_train, yt_pred)\n",
        "    print('Score:', ridge.score(xr_test, y_test))\n",
        "    output = ridge.predict(xr_test)\n",
        "    return mse_train, mse_test, output\n",
        "\n",
        "mse_train1, mse_test1, preds = ridge_plot(x_train1,x_test1)"
      ],
      "execution_count": 403,
      "outputs": [
        {
          "output_type": "stream",
          "text": [
            "Score: 0.04543152414499219\n"
          ],
          "name": "stdout"
        },
        {
          "output_type": "display_data",
          "data": {
            "image/png": "[encoded data removed]",
            "text/plain": [
              "<Figure size 432x288 with 1 Axes>"
            ]
          },
          "metadata": {
            "tags": [],
            "needs_background": "light"
          }
        }
      ]
    },
    {
      "cell_type": "code",
      "metadata": {
        "colab": {
          "base_uri": "https://localhost:8080/",
          "height": 282
        },
        "id": "VauweTmLyrRM",
        "outputId": "c58fbed7-d2a2-46a8-9cb7-2659e5e66622"
      },
      "source": [
        "mse_train3, mse_test3, preds = ridge_plot(x_train3,x_test3)"
      ],
      "execution_count": 404,
      "outputs": [
        {
          "output_type": "stream",
          "text": [
            "Score: 0.34313032795261655\n"
          ],
          "name": "stdout"
        },
        {
          "output_type": "display_data",
          "data": {
            "image/png": "[encoded data removed]",
            "text/plain": [
              "<Figure size 432x288 with 1 Axes>"
            ]
          },
          "metadata": {
            "tags": [],
            "needs_background": "light"
          }
        }
      ]
    },
    {
      "cell_type": "code",
      "metadata": {
        "colab": {
          "base_uri": "https://localhost:8080/"
        },
        "id": "vEBxuvTG6wV3",
        "outputId": "47b7096a-b544-4626-9f83-d4aa73c709af"
      },
      "source": [
        "preds"
      ],
      "execution_count": 408,
      "outputs": [
        {
          "output_type": "execute_result",
          "data": {
            "text/plain": [
              "array([[0.52444059],\n",
              "       [0.50892411],\n",
              "       [0.56870561],\n",
              "       ...,\n",
              "       [0.61708628],\n",
              "       [0.47289729],\n",
              "       [0.40535173]])"
            ]
          },
          "metadata": {
            "tags": []
          },
          "execution_count": 408
        }
      ]
    }
  ]
}